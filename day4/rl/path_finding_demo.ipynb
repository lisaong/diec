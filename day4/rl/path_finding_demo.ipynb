{
  "nbformat": 4,
  "nbformat_minor": 0,
  "metadata": {
    "colab": {
      "name": "path_finding_demo.ipynb",
      "provenance": [],
      "collapsed_sections": [],
      "authorship_tag": "ABX9TyNRsF5upR4NO1Csj1j/WSyx",
      "include_colab_link": true
    },
    "kernelspec": {
      "name": "python3",
      "display_name": "Python 3"
    }
  },
  "cells": [
    {
      "cell_type": "markdown",
      "metadata": {
        "id": "view-in-github",
        "colab_type": "text"
      },
      "source": [
        "<a href=\"https://colab.research.google.com/github/lisaong/diec/blob/rl_path_finding/day4/rl/path_finding_demo.ipynb\" target=\"_parent\"><img src=\"https://colab.research.google.com/assets/colab-badge.svg\" alt=\"Open In Colab\"/></a>"
      ]
    },
    {
      "cell_type": "markdown",
      "metadata": {
        "id": "MxsIdZTi60PM",
        "colab_type": "text"
      },
      "source": [
        "# Reinforcement Learning Path-Finding Demo\n",
        "\n",
        "This demonstrates how to:\n",
        "- Use OpenAI gym to create a custom environment\n",
        "- Compare different Q-learning algorithms for Reinforcement Learning\n",
        "\n",
        "Inspired by: http://mnemstudio.org/path-finding-q-learning-tutorial.htm\n",
        "\n",
        "## Problem Setup\n",
        "\n",
        "Bender is lost in Fry's house! Help Bender find Fry (who is in Room 5 waiting with a can of beer).\n",
        "\n",
        "![intro](https://github.com/lisaong/diec/raw/rl_path_finding/day4/rl/path_finding_intro.png)\n",
        "\n",
        "## OpenAI Gym\n",
        "\n",
        "[OpenAI Gym](https://gym.openai.com/) is an open-source Python toolkit for developing RL algorithms.\n",
        "\n",
        "We will use OpenAI gym to re-create Fry's house, then run some reinforcement learning to find the path.\n",
        "\n",
        "https://github.com/openai/gym/blob/master/docs/creating-environments.md\n"
      ]
    },
    {
      "cell_type": "code",
      "metadata": {
        "id": "MvDQ9PwW6SFZ",
        "colab_type": "code",
        "outputId": "f87f8df8-d0eb-4c42-d516-9ff3a2fb9d3b",
        "colab": {
          "base_uri": "https://localhost:8080/",
          "height": 34
        }
      },
      "source": [
        "# gym is already built into Colab\n",
        "import gym\n",
        "from gym import spaces\n",
        "import numpy as np\n",
        "import random\n",
        "\n",
        "gym.__version__"
      ],
      "execution_count": 14,
      "outputs": [
        {
          "output_type": "execute_result",
          "data": {
            "text/plain": [
              "'0.15.6'"
            ]
          },
          "metadata": {
            "tags": []
          },
          "execution_count": 14
        }
      ]
    },
    {
      "cell_type": "code",
      "metadata": {
        "id": "0GBlQwqV_dSj",
        "colab_type": "code",
        "colab": {}
      },
      "source": [
        "class FrysHomeEnv(gym.Env):\n",
        "  \"\"\"Custom Environment describing Fry's home  \n",
        "  \n",
        "  For details on the gym.Env class:\n",
        "  https://github.com/openai/gym/blob/master/gym/core.py\n",
        "  \"\"\"\n",
        "\n",
        "  # render to the current display or terminal\n",
        "  metadata = {'render.modes': ['human']}\n",
        "\n",
        "  def __init__(self):\n",
        "    super(FrysHomeEnv, self).__init__()\n",
        "\n",
        "    # Initialise the rewards matrix according to the graph above\n",
        "    # Where:\n",
        "    #  state: current room, action: next room\n",
        "    #  dimensions (row=state, col=actions)\n",
        "    #  A value of -1 means there is no adjacent path from room_i to room_j\n",
        "    #  (for example, room_0 to room_0 has, room_0 to room_5)\n",
        "    self.rewards = np.array([[-1, -1, -1, -1,  0, -1], # action 0\n",
        "                             [-1, -1, -1,  0, -1, 0],  # action 1\n",
        "                             [-1, -1, -1,  0, -1, -1], # etc\n",
        "                             [-1,  0,  0, -1,  0, -1],\n",
        "                             [ 0, -1, -1,  0, -1,  0],\n",
        "                             [-1, 100, -1, -1, 100, 100]])\n",
        "    \n",
        "    self.num_rooms = self.rewards.shape[0]\n",
        "\n",
        "    # Action space describes all possible actions that can be taken\n",
        "    # here, we can select 1 out of 6 rooms\n",
        "    self.action_space = spaces.Discrete(self.num_rooms)\n",
        "\n",
        "    # Observation space describes the valid observations\n",
        "    # since we are moving between rooms, we can be in 1 of 6 rooms\n",
        "    self.observation_space = spaces.Discrete(self.num_rooms)\n",
        "\n",
        "    # Rewards range describes the min and max possible rewards\n",
        "    self.reward_range = (self.rewards.min(), self.rewards.max())\n",
        "\n",
        "    # Room 5 is our goal\n",
        "    self.goal = 5\n",
        "\n",
        "    # Initialise our state\n",
        "    self.reset()\n",
        "\n",
        "  def reset(self):\n",
        "    \"\"\"Reset the environment to an initial state\"\"\"\n",
        "\n",
        "    # Randomly initialise the state\n",
        "    self.state = random.randint(0, self.num_rooms)\n",
        "\n",
        "    # Return the observation (same as the state in our case)\n",
        "    obs = self.state\n",
        "    return obs\n",
        "\n",
        "  def step(self, action):\n",
        "    \"\"\"Execute one step within the environment\"\"\"\n",
        "\n",
        "    # take the selected action\n",
        "    prev_state = self.state\n",
        "    self.state = action\n",
        "\n",
        "    # calculate the reward\n",
        "    reward = self.rewards[prev_state][action]\n",
        "\n",
        "    # check if we've reached our goal\n",
        "    done = (self.state == self.goal)\n",
        "\n",
        "    # get the next observation\n",
        "    obs = self.state\n",
        "\n",
        "    return obs, reward, done, {}\n",
        "\n",
        "  def render(self, mode='human', close=True):\n",
        "    print(f'Current room: {self.state}')\n",
        "    print(f'Reached goal: {self.state == self.goal}')"
      ],
      "execution_count": 0,
      "outputs": []
    },
    {
      "cell_type": "code",
      "metadata": {
        "id": "LyjONcEzEzTj",
        "colab_type": "code",
        "outputId": "2cafde1a-4ec7-4069-93eb-f0ff58f9cf95",
        "colab": {
          "base_uri": "https://localhost:8080/",
          "height": 323
        }
      },
      "source": [
        "# Unit testing\n",
        "myenv = FrysHomeEnv()\n",
        "\n",
        "for i in range(0, 6):\n",
        "  print(myenv.step(i))\n",
        "  myenv.render()"
      ],
      "execution_count": 0,
      "outputs": [
        {
          "output_type": "stream",
          "text": [
            "(0, -1, False, {})\n",
            "Current room: 0\n",
            "Reached goal: False\n",
            "(1, -1, False, {})\n",
            "Current room: 1\n",
            "Reached goal: False\n",
            "(2, -1, False, {})\n",
            "Current room: 2\n",
            "Reached goal: False\n",
            "(3, 0, False, {})\n",
            "Current room: 3\n",
            "Reached goal: False\n",
            "(4, 0, False, {})\n",
            "Current room: 4\n",
            "Reached goal: False\n",
            "(5, 0, True, {})\n",
            "Current room: 5\n",
            "Reached goal: True\n"
          ],
          "name": "stdout"
        }
      ]
    },
    {
      "cell_type": "markdown",
      "metadata": {
        "id": "mJ8RA_ilKtkX",
        "colab_type": "text"
      },
      "source": [
        "# Package custom environment as module\n",
        "\n",
        "OpenAI gym requires all environments to be packaged as Python modules.\n",
        "\n",
        "The code above has been packaged here:\n",
        "https://github.com/lisaong/diec/blob/master/day4/rl/gym-fryshome\n",
        "\n",
        "The module follows this convention:\n",
        "https://github.com/openai/gym/blob/master/docs/creating-environments.md"
      ]
    },
    {
      "cell_type": "code",
      "metadata": {
        "id": "bBhgYzDkN46S",
        "colab_type": "code",
        "colab": {
          "base_uri": "https://localhost:8080/",
          "height": 1000
        },
        "outputId": "f2d853e5-dd33-456e-838b-aa58233bbd0a"
      },
      "source": [
        "# https://pip.pypa.io/en/stable/reference/pip_install/#vcs-support\n",
        "!pip install --verbose \"git+git://github.com/lisaong/diec.git@rl_path_finding#egg=gym_fryshome&subdirectory=day4/rl/gym-fryshome\""
      ],
      "execution_count": 32,
      "outputs": [
        {
          "output_type": "stream",
          "text": [
            "Created temporary directory: /tmp/pip-ephem-wheel-cache-qur_dclm\n",
            "Created temporary directory: /tmp/pip-req-tracker-ble5cm9a\n",
            "Created requirements tracker '/tmp/pip-req-tracker-ble5cm9a'\n",
            "Created temporary directory: /tmp/pip-install-7efhuzlb\n",
            "Collecting gym_fryshome\n",
            "  Cloning git://github.com/lisaong/diec.git (to revision rl_path_finding) to /tmp/pip-install-7efhuzlb/gym-fryshome\n",
            "  Running command git clone -q git://github.com/lisaong/diec.git /tmp/pip-install-7efhuzlb/gym-fryshome\n",
            "  Running command git show-ref rl_path_finding\n",
            "  ed71ed49d2dee62e813a03f76c9cdab9906ff5d2 refs/remotes/origin/rl_path_finding\n",
            "  Running command git symbolic-ref -q HEAD\n",
            "  refs/heads/master\n",
            "  Running command git checkout -b rl_path_finding --track origin/rl_path_finding\n",
            "  Switched to a new branch 'rl_path_finding'\n",
            "  Branch 'rl_path_finding' set up to track remote branch 'rl_path_finding' from 'origin'.\n",
            "  Running command git submodule update --init --recursive -q\n",
            "  Added gym_fryshome from git+git://github.com/lisaong/diec.git@rl_path_finding#egg=gym_fryshome&subdirectory=day4/rl/gym-fryshome to build tracker '/tmp/pip-req-tracker-ble5cm9a'\n",
            "    Running setup.py (path:/tmp/pip-install-7efhuzlb/gym-fryshome/day4/rl/gym-fryshome/setup.py) egg_info for package gym-fryshome\n",
            "    Running command python setup.py egg_info\n",
            "    running egg_info\n",
            "    creating /tmp/pip-install-7efhuzlb/gym-fryshome/day4/rl/gym-fryshome/pip-egg-info/gym_fryshome.egg-info\n",
            "    writing /tmp/pip-install-7efhuzlb/gym-fryshome/day4/rl/gym-fryshome/pip-egg-info/gym_fryshome.egg-info/PKG-INFO\n",
            "    writing dependency_links to /tmp/pip-install-7efhuzlb/gym-fryshome/day4/rl/gym-fryshome/pip-egg-info/gym_fryshome.egg-info/dependency_links.txt\n",
            "    writing requirements to /tmp/pip-install-7efhuzlb/gym-fryshome/day4/rl/gym-fryshome/pip-egg-info/gym_fryshome.egg-info/requires.txt\n",
            "    writing top-level names to /tmp/pip-install-7efhuzlb/gym-fryshome/day4/rl/gym-fryshome/pip-egg-info/gym_fryshome.egg-info/top_level.txt\n",
            "    writing manifest file '/tmp/pip-install-7efhuzlb/gym-fryshome/day4/rl/gym-fryshome/pip-egg-info/gym_fryshome.egg-info/SOURCES.txt'\n",
            "    writing manifest file '/tmp/pip-install-7efhuzlb/gym-fryshome/day4/rl/gym-fryshome/pip-egg-info/gym_fryshome.egg-info/SOURCES.txt'\n",
            "  Source in /tmp/pip-install-7efhuzlb/gym-fryshome has version 0.0.1, which satisfies requirement gym_fryshome from git+git://github.com/lisaong/diec.git@rl_path_finding#egg=gym_fryshome&subdirectory=day4/rl/gym-fryshome\n",
            "  Removed gym_fryshome from git+git://github.com/lisaong/diec.git@rl_path_finding#egg=gym_fryshome&subdirectory=day4/rl/gym-fryshome from build tracker '/tmp/pip-req-tracker-ble5cm9a'\n",
            "Requirement already satisfied: gym in /usr/local/lib/python3.6/dist-packages (from gym_fryshome) (0.15.6)\n",
            "Requirement already satisfied: cloudpickle~=1.2.0 in /usr/local/lib/python3.6/dist-packages (from gym->gym_fryshome) (1.2.2)\n",
            "Requirement already satisfied: numpy>=1.10.4 in /usr/local/lib/python3.6/dist-packages (from gym->gym_fryshome) (1.17.5)\n",
            "Requirement already satisfied: scipy in /usr/local/lib/python3.6/dist-packages (from gym->gym_fryshome) (1.4.1)\n",
            "Requirement already satisfied: pyglet<=1.5.0,>=1.4.0 in /usr/local/lib/python3.6/dist-packages (from gym->gym_fryshome) (1.4.10)\n",
            "Requirement already satisfied: six in /usr/local/lib/python3.6/dist-packages (from gym->gym_fryshome) (1.12.0)\n",
            "Requirement already satisfied: future in /usr/local/lib/python3.6/dist-packages (from pyglet<=1.5.0,>=1.4.0->gym->gym_fryshome) (0.16.0)\n",
            "Building wheels for collected packages: gym-fryshome\n",
            "  Created temporary directory: /tmp/pip-wheel-hvf9bpri\n",
            "  Building wheel for gym-fryshome (setup.py) ... \u001b[?25l  Destination directory: /tmp/pip-wheel-hvf9bpri\n",
            "  Running command /usr/bin/python3 -u -c 'import sys, setuptools, tokenize; sys.argv[0] = '\"'\"'/tmp/pip-install-7efhuzlb/gym-fryshome/day4/rl/gym-fryshome/setup.py'\"'\"'; __file__='\"'\"'/tmp/pip-install-7efhuzlb/gym-fryshome/day4/rl/gym-fryshome/setup.py'\"'\"';f=getattr(tokenize, '\"'\"'open'\"'\"', open)(__file__);code=f.read().replace('\"'\"'\\r\\n'\"'\"', '\"'\"'\\n'\"'\"');f.close();exec(compile(code, __file__, '\"'\"'exec'\"'\"'))' bdist_wheel -d /tmp/pip-wheel-hvf9bpri --python-tag cp36\n",
            "  running bdist_wheel\n",
            "  running build\n",
            "  installing to build/bdist.linux-x86_64/wheel\n",
            "  running install\n",
            "  running install_egg_info\n",
            "  running egg_info\n",
            "  creating gym_fryshome.egg-info\n",
            "  writing gym_fryshome.egg-info/PKG-INFO\n",
            "  writing dependency_links to gym_fryshome.egg-info/dependency_links.txt\n",
            "  writing requirements to gym_fryshome.egg-info/requires.txt\n",
            "  writing top-level names to gym_fryshome.egg-info/top_level.txt\n",
            "  writing manifest file 'gym_fryshome.egg-info/SOURCES.txt'\n",
            "  writing manifest file 'gym_fryshome.egg-info/SOURCES.txt'\n",
            "  Copying gym_fryshome.egg-info to build/bdist.linux-x86_64/wheel/gym_fryshome-0.0.1-py3.6.egg-info\n",
            "  running install_scripts\n",
            "  creating build/bdist.linux-x86_64/wheel/gym_fryshome-0.0.1.dist-info/WHEEL\n",
            "  creating '/tmp/pip-wheel-hvf9bpri/gym_fryshome-0.0.1-cp36-none-any.whl' and adding 'build/bdist.linux-x86_64/wheel' to it\n",
            "  adding 'gym_fryshome-0.0.1.dist-info/METADATA'\n",
            "  adding 'gym_fryshome-0.0.1.dist-info/WHEEL'\n",
            "  adding 'gym_fryshome-0.0.1.dist-info/top_level.txt'\n",
            "  adding 'gym_fryshome-0.0.1.dist-info/RECORD'\n",
            "  removing build/bdist.linux-x86_64/wheel\n",
            "\u001b[?25hdone\n",
            "  Created wheel for gym-fryshome: filename=gym_fryshome-0.0.1-cp36-none-any.whl size=1055 sha256=349d29566cabbebace735818e0fad0c6f9f4cb278fbb53565c23cc8c21f584ec\n",
            "  Stored in directory: /tmp/pip-ephem-wheel-cache-qur_dclm/wheels/d6/7e/9d/b563cf8bd0b315243ed391f861e4d9f2cb564efb838f38d762\n",
            "  Removing source in /tmp/pip-install-7efhuzlb/gym-fryshome\n",
            "Successfully built gym-fryshome\n",
            "Installing collected packages: gym-fryshome\n",
            "\n",
            "Successfully installed gym-fryshome-0.0.1\n",
            "Cleaning up...\n",
            "Removed build tracker '/tmp/pip-req-tracker-ble5cm9a'\n"
          ],
          "name": "stdout"
        }
      ]
    },
    {
      "cell_type": "code",
      "metadata": {
        "id": "-Zj5DFniQ11y",
        "colab_type": "code",
        "colab": {
          "base_uri": "https://localhost:8080/",
          "height": 299
        },
        "outputId": "9957dad4-e2ed-48aa-a643-c515dd6b3eb1"
      },
      "source": [
        "# Test the installation\n",
        "import gym_fryshome"
      ],
      "execution_count": 37,
      "outputs": [
        {
          "output_type": "error",
          "ename": "ModuleNotFoundError",
          "evalue": "ignored",
          "traceback": [
            "\u001b[0;31m---------------------------------------------------------------------------\u001b[0m",
            "\u001b[0;31mModuleNotFoundError\u001b[0m                       Traceback (most recent call last)",
            "\u001b[0;32m<ipython-input-37-9fe8d2a98232>\u001b[0m in \u001b[0;36m<module>\u001b[0;34m()\u001b[0m\n\u001b[0;32m----> 1\u001b[0;31m \u001b[0;32mimport\u001b[0m \u001b[0mgym_fryshome\u001b[0m\u001b[0;34m\u001b[0m\u001b[0;34m\u001b[0m\u001b[0m\n\u001b[0m",
            "\u001b[0;31mModuleNotFoundError\u001b[0m: No module named 'gym_fryshome'",
            "",
            "\u001b[0;31m---------------------------------------------------------------------------\u001b[0;32m\nNOTE: If your import is failing due to a missing package, you can\nmanually install dependencies using either !pip or !apt.\n\nTo view examples of installing some common dependencies, click the\n\"Open Examples\" button below.\n\u001b[0;31m---------------------------------------------------------------------------\u001b[0m\n"
          ]
        }
      ]
    },
    {
      "cell_type": "markdown",
      "metadata": {
        "id": "k2iBf7ZeJgeT",
        "colab_type": "text"
      },
      "source": [
        "## Learn using Random Walk"
      ]
    },
    {
      "cell_type": "code",
      "metadata": {
        "id": "XycXafXEJ-tR",
        "colab_type": "code",
        "outputId": "2a1a60cd-d960-4659-829e-15e92e19b87a",
        "colab": {
          "base_uri": "https://localhost:8080/",
          "height": 445
        }
      },
      "source": [
        "env = gym.make('gym-fryshome:fryshome-v0')"
      ],
      "execution_count": 18,
      "outputs": [
        {
          "output_type": "error",
          "ename": "Error",
          "evalue": "ignored",
          "traceback": [
            "\u001b[0;31m---------------------------------------------------------------------------\u001b[0m",
            "\u001b[0;31mModuleNotFoundError\u001b[0m                       Traceback (most recent call last)",
            "\u001b[0;32m/usr/local/lib/python3.6/dist-packages/gym/envs/registration.py\u001b[0m in \u001b[0;36mspec\u001b[0;34m(self, path)\u001b[0m\n\u001b[1;32m    105\u001b[0m             \u001b[0;32mtry\u001b[0m\u001b[0;34m:\u001b[0m\u001b[0;34m\u001b[0m\u001b[0;34m\u001b[0m\u001b[0m\n\u001b[0;32m--> 106\u001b[0;31m                 \u001b[0mimportlib\u001b[0m\u001b[0;34m.\u001b[0m\u001b[0mimport_module\u001b[0m\u001b[0;34m(\u001b[0m\u001b[0mmod_name\u001b[0m\u001b[0;34m)\u001b[0m\u001b[0;34m\u001b[0m\u001b[0;34m\u001b[0m\u001b[0m\n\u001b[0m\u001b[1;32m    107\u001b[0m             \u001b[0;31m# catch ImportError for python2.7 compatibility\u001b[0m\u001b[0;34m\u001b[0m\u001b[0;34m\u001b[0m\u001b[0;34m\u001b[0m\u001b[0m\n",
            "\u001b[0;32m/usr/lib/python3.6/importlib/__init__.py\u001b[0m in \u001b[0;36mimport_module\u001b[0;34m(name, package)\u001b[0m\n\u001b[1;32m    125\u001b[0m             \u001b[0mlevel\u001b[0m \u001b[0;34m+=\u001b[0m \u001b[0;36m1\u001b[0m\u001b[0;34m\u001b[0m\u001b[0;34m\u001b[0m\u001b[0m\n\u001b[0;32m--> 126\u001b[0;31m     \u001b[0;32mreturn\u001b[0m \u001b[0m_bootstrap\u001b[0m\u001b[0;34m.\u001b[0m\u001b[0m_gcd_import\u001b[0m\u001b[0;34m(\u001b[0m\u001b[0mname\u001b[0m\u001b[0;34m[\u001b[0m\u001b[0mlevel\u001b[0m\u001b[0;34m:\u001b[0m\u001b[0;34m]\u001b[0m\u001b[0;34m,\u001b[0m \u001b[0mpackage\u001b[0m\u001b[0;34m,\u001b[0m \u001b[0mlevel\u001b[0m\u001b[0;34m)\u001b[0m\u001b[0;34m\u001b[0m\u001b[0;34m\u001b[0m\u001b[0m\n\u001b[0m\u001b[1;32m    127\u001b[0m \u001b[0;34m\u001b[0m\u001b[0m\n",
            "\u001b[0;32m/usr/lib/python3.6/importlib/_bootstrap.py\u001b[0m in \u001b[0;36m_gcd_import\u001b[0;34m(name, package, level)\u001b[0m\n",
            "\u001b[0;32m/usr/lib/python3.6/importlib/_bootstrap.py\u001b[0m in \u001b[0;36m_find_and_load\u001b[0;34m(name, import_)\u001b[0m\n",
            "\u001b[0;32m/usr/lib/python3.6/importlib/_bootstrap.py\u001b[0m in \u001b[0;36m_find_and_load_unlocked\u001b[0;34m(name, import_)\u001b[0m\n",
            "\u001b[0;31mModuleNotFoundError\u001b[0m: No module named 'gym-fryshome'",
            "\nDuring handling of the above exception, another exception occurred:\n",
            "\u001b[0;31mError\u001b[0m                                     Traceback (most recent call last)",
            "\u001b[0;32m<ipython-input-18-7ebf0d4daed9>\u001b[0m in \u001b[0;36m<module>\u001b[0;34m()\u001b[0m\n\u001b[0;32m----> 1\u001b[0;31m \u001b[0menv\u001b[0m \u001b[0;34m=\u001b[0m \u001b[0mgym\u001b[0m\u001b[0;34m.\u001b[0m\u001b[0mmake\u001b[0m\u001b[0;34m(\u001b[0m\u001b[0;34m'gym-fryshome:fryshome-v0'\u001b[0m\u001b[0;34m)\u001b[0m\u001b[0;34m\u001b[0m\u001b[0;34m\u001b[0m\u001b[0m\n\u001b[0m",
            "\u001b[0;32m/usr/local/lib/python3.6/dist-packages/gym/envs/registration.py\u001b[0m in \u001b[0;36mmake\u001b[0;34m(id, **kwargs)\u001b[0m\n\u001b[1;32m    140\u001b[0m \u001b[0;34m\u001b[0m\u001b[0m\n\u001b[1;32m    141\u001b[0m \u001b[0;32mdef\u001b[0m \u001b[0mmake\u001b[0m\u001b[0;34m(\u001b[0m\u001b[0mid\u001b[0m\u001b[0;34m,\u001b[0m \u001b[0;34m**\u001b[0m\u001b[0mkwargs\u001b[0m\u001b[0;34m)\u001b[0m\u001b[0;34m:\u001b[0m\u001b[0;34m\u001b[0m\u001b[0;34m\u001b[0m\u001b[0m\n\u001b[0;32m--> 142\u001b[0;31m     \u001b[0;32mreturn\u001b[0m \u001b[0mregistry\u001b[0m\u001b[0;34m.\u001b[0m\u001b[0mmake\u001b[0m\u001b[0;34m(\u001b[0m\u001b[0mid\u001b[0m\u001b[0;34m,\u001b[0m \u001b[0;34m**\u001b[0m\u001b[0mkwargs\u001b[0m\u001b[0;34m)\u001b[0m\u001b[0;34m\u001b[0m\u001b[0;34m\u001b[0m\u001b[0m\n\u001b[0m\u001b[1;32m    143\u001b[0m \u001b[0;34m\u001b[0m\u001b[0m\n\u001b[1;32m    144\u001b[0m \u001b[0;32mdef\u001b[0m \u001b[0mspec\u001b[0m\u001b[0;34m(\u001b[0m\u001b[0mid\u001b[0m\u001b[0;34m)\u001b[0m\u001b[0;34m:\u001b[0m\u001b[0;34m\u001b[0m\u001b[0;34m\u001b[0m\u001b[0m\n",
            "\u001b[0;32m/usr/local/lib/python3.6/dist-packages/gym/envs/registration.py\u001b[0m in \u001b[0;36mmake\u001b[0;34m(self, path, **kwargs)\u001b[0m\n\u001b[1;32m     84\u001b[0m         \u001b[0;32melse\u001b[0m\u001b[0;34m:\u001b[0m\u001b[0;34m\u001b[0m\u001b[0;34m\u001b[0m\u001b[0m\n\u001b[1;32m     85\u001b[0m             \u001b[0mlogger\u001b[0m\u001b[0;34m.\u001b[0m\u001b[0minfo\u001b[0m\u001b[0;34m(\u001b[0m\u001b[0;34m'Making new env: %s'\u001b[0m\u001b[0;34m,\u001b[0m \u001b[0mpath\u001b[0m\u001b[0;34m)\u001b[0m\u001b[0;34m\u001b[0m\u001b[0;34m\u001b[0m\u001b[0m\n\u001b[0;32m---> 86\u001b[0;31m         \u001b[0mspec\u001b[0m \u001b[0;34m=\u001b[0m \u001b[0mself\u001b[0m\u001b[0;34m.\u001b[0m\u001b[0mspec\u001b[0m\u001b[0;34m(\u001b[0m\u001b[0mpath\u001b[0m\u001b[0;34m)\u001b[0m\u001b[0;34m\u001b[0m\u001b[0;34m\u001b[0m\u001b[0m\n\u001b[0m\u001b[1;32m     87\u001b[0m         \u001b[0menv\u001b[0m \u001b[0;34m=\u001b[0m \u001b[0mspec\u001b[0m\u001b[0;34m.\u001b[0m\u001b[0mmake\u001b[0m\u001b[0;34m(\u001b[0m\u001b[0;34m**\u001b[0m\u001b[0mkwargs\u001b[0m\u001b[0;34m)\u001b[0m\u001b[0;34m\u001b[0m\u001b[0;34m\u001b[0m\u001b[0m\n\u001b[1;32m     88\u001b[0m         \u001b[0;31m# We used to have people override _reset/_step rather than\u001b[0m\u001b[0;34m\u001b[0m\u001b[0;34m\u001b[0m\u001b[0;34m\u001b[0m\u001b[0m\n",
            "\u001b[0;32m/usr/local/lib/python3.6/dist-packages/gym/envs/registration.py\u001b[0m in \u001b[0;36mspec\u001b[0;34m(self, path)\u001b[0m\n\u001b[1;32m    107\u001b[0m             \u001b[0;31m# catch ImportError for python2.7 compatibility\u001b[0m\u001b[0;34m\u001b[0m\u001b[0;34m\u001b[0m\u001b[0;34m\u001b[0m\u001b[0m\n\u001b[1;32m    108\u001b[0m             \u001b[0;32mexcept\u001b[0m \u001b[0mImportError\u001b[0m\u001b[0;34m:\u001b[0m\u001b[0;34m\u001b[0m\u001b[0;34m\u001b[0m\u001b[0m\n\u001b[0;32m--> 109\u001b[0;31m                 \u001b[0;32mraise\u001b[0m \u001b[0merror\u001b[0m\u001b[0;34m.\u001b[0m\u001b[0mError\u001b[0m\u001b[0;34m(\u001b[0m\u001b[0;34m'A module ({}) was specified for the environment but was not found, make sure the package is installed with `pip install` before calling `gym.make()`'\u001b[0m\u001b[0;34m.\u001b[0m\u001b[0mformat\u001b[0m\u001b[0;34m(\u001b[0m\u001b[0mmod_name\u001b[0m\u001b[0;34m)\u001b[0m\u001b[0;34m)\u001b[0m\u001b[0;34m\u001b[0m\u001b[0;34m\u001b[0m\u001b[0m\n\u001b[0m\u001b[1;32m    110\u001b[0m         \u001b[0;32melse\u001b[0m\u001b[0;34m:\u001b[0m\u001b[0;34m\u001b[0m\u001b[0;34m\u001b[0m\u001b[0m\n\u001b[1;32m    111\u001b[0m             \u001b[0mid\u001b[0m \u001b[0;34m=\u001b[0m \u001b[0mpath\u001b[0m\u001b[0;34m\u001b[0m\u001b[0;34m\u001b[0m\u001b[0m\n",
            "\u001b[0;31mError\u001b[0m: A module (gym-fryshome) was specified for the environment but was not found, make sure the package is installed with `pip install` before calling `gym.make()`"
          ]
        }
      ]
    },
    {
      "cell_type": "code",
      "metadata": {
        "id": "yBZ9lWopKCXh",
        "colab_type": "code",
        "colab": {}
      },
      "source": [
        ""
      ],
      "execution_count": 0,
      "outputs": []
    }
  ]
}