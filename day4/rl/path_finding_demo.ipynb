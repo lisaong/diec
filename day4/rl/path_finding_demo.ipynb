{
  "nbformat": 4,
  "nbformat_minor": 0,
  "metadata": {
    "colab": {
      "name": "path_finding_demo.ipynb",
      "provenance": [],
      "collapsed_sections": [],
      "toc_visible": true,
      "include_colab_link": true
    },
    "kernelspec": {
      "name": "python3",
      "display_name": "Python 3"
    }
  },
  "cells": [
    {
      "cell_type": "markdown",
      "metadata": {
        "colab_type": "text",
        "id": "view-in-github"
      },
      "source": [
        "<a href=\"https://colab.research.google.com/github/lisaong/diec/blob/master/day4/rl/path_finding_demo.ipynb\" target=\"_parent\"><img src=\"https://colab.research.google.com/assets/colab-badge.svg\" alt=\"Open In Colab\"/></a>"
      ]
    },
    {
      "cell_type": "markdown",
      "metadata": {
        "colab_type": "text",
        "id": "MxsIdZTi60PM"
      },
      "source": [
        "# Reinforcement Learning Path-Finding Demo\n",
        "\n",
        "This demonstrates how to:\n",
        "- Use OpenAI gym to create a custom environment\n",
        "- Compare different Q-learning algorithms for Reinforcement Learning\n",
        "\n",
        "Inspired by: http://mnemstudio.org/path-finding-q-learning-tutorial.htm\n",
        "\n",
        "## Problem Setup\n",
        "\n",
        "Bender is lost in Fry's house! Help Bender find Fry (who is in Room 5 waiting with a can of beer).\n",
        "\n",
        "![intro](https://github.com/lisaong/diec/raw/master/day4/rl/path_finding_intro.png)\n",
        "\n",
        "(Character credits: Futurama)\n",
        "\n",
        "Review these [slides](https://github.com/lisaong/diec/blob/master/day4/rl/some%20intro%20slides.pdf) to see how the problem is formulated as a Q-Learning RL problem.\n",
        "\n",
        "## OpenAI Gym\n",
        "\n",
        "[OpenAI Gym](https://gym.openai.com/) is an open-source Python toolkit for developing RL algorithms.\n",
        "\n",
        "We will use OpenAI gym to re-create Fry's house, then run some reinforcement learning to find the path.\n",
        "\n",
        "https://github.com/openai/gym/blob/master/docs/creating-environments.md\n"
      ]
    },
    {
      "cell_type": "code",
      "execution_count": 8,
      "metadata": {},
      "outputs": [
        {
          "data": {
            "text/plain": "'0.17.1'"
          },
          "execution_count": 8,
          "metadata": {},
          "output_type": "execute_result"
        }
      ],
      "source": [
        "# gym is already built into Colab\n",
        "import gym\n",
        "from gym import spaces\n",
        "import numpy as np\n",
        "import random\n",
        "\n",
        "gym.__version__"
      ]
    },
    {
      "cell_type": "code",
      "execution_count": 9,
      "metadata": {},
      "outputs": [],
      "source": [
        "#\n",
        "# A Simple Path Finding OpenAI Gym Environment\n",
        "#\n",
        "# Inspired by: http://mnemstudio.org/path-finding-q-learning-tutorial.htm\n",
        "#\n",
        "\n",
        "import gym\n",
        "from gym import spaces\n",
        "import numpy as np\n",
        "import random\n",
        "\n",
        "class FrysHomeEnv(gym.Env):\n",
        "  \"\"\"Custom Environment describing Fry's home  \n",
        "  \n",
        "  For details on the gym.Env class:\n",
        "  https://github.com/openai/gym/blob/master/gym/core.py\n",
        "  \"\"\"\n",
        "\n",
        "  # render to the current display or terminal\n",
        "  metadata = {'render.modes': ['human']}\n",
        "\n",
        "  def __init__(self, rewards):\n",
        "    super(FrysHomeEnv, self).__init__()\n",
        "\n",
        "    self.rewards = rewards\n",
        "    self.num_rooms = self.rewards.shape[0]\n",
        "\n",
        "    # Action space describes all possible actions that can be taken\n",
        "    # here, we can select 1 out of 6 rooms\n",
        "    self.action_space = spaces.Discrete(self.num_rooms)\n",
        "\n",
        "    # Observation space describes the valid observations\n",
        "    # since we are moving between rooms, we can be in 1 of 6 rooms\n",
        "    self.observation_space = spaces.Discrete(self.num_rooms)\n",
        "\n",
        "    # Rewards range describes the min and max possible rewards\n",
        "    self.reward_range = (self.rewards.min(), self.rewards.max())\n",
        "\n",
        "    # Room 5 is our goal\n",
        "    self.goal = 5\n",
        "\n",
        "    # Initialise our state\n",
        "    self.reset()\n",
        "\n",
        "  def reset(self):\n",
        "    \"\"\"Reset the environment to an initial state\"\"\"\n",
        "\n",
        "    # Randomly initialise the state\n",
        "    self.state = random.randint(0, self.num_rooms-1)\n",
        "\n",
        "    # Return the observation (same as the state in our case)\n",
        "    obs = self.state\n",
        "    return obs\n",
        "\n",
        "  def step(self, action):\n",
        "    \"\"\"Execute one step within the environment\"\"\"\n",
        "\n",
        "    # take the selected action\n",
        "    prev_state = self.state\n",
        "    self.state = action\n",
        "\n",
        "    # calculate the reward\n",
        "    reward = self.rewards[prev_state][action]\n",
        "\n",
        "    # check if we've reached our goal\n",
        "    done = (prev_state == self.goal or self.state == self.goal)\n",
        "\n",
        "    # get the next observation\n",
        "    obs = self.state\n",
        "\n",
        "    return obs, reward, done, {}\n",
        "\n",
        "  def render(self, mode='human', close=True):\n",
        "    \"\"\"Print state of the current environment\"\"\"\n",
        "    print(f'Current room: {self.state}, Reached goal: {self.state == self.goal}')"
      ]
    },
    {
      "cell_type": "code",
      "execution_count": 2,
      "metadata": {},
      "outputs": [
        {
          "name": "stdout",
          "output_type": "stream",
          "text": "(0, -1, False, {})\nCurrent room: 0, Reached goal: False\n(1, -1, False, {})\nCurrent room: 1, Reached goal: False\n(2, -1, False, {})\nCurrent room: 2, Reached goal: False\n(3, 0, False, {})\nCurrent room: 3, Reached goal: False\n(4, 0, False, {})\nCurrent room: 4, Reached goal: False\n(5, 100, True, {})\nCurrent room: 5, Reached goal: True\n"
        }
      ],
      "source": [
        "# Unit testing\n",
        "\n",
        "# Initialise the rewards matrix for the rooms in the house\n",
        "# Where:\n",
        "#  state: current room, action: next room\n",
        "#  dimensions (row=state, col=actions)\n",
        "#  A value of -1 means there is no adjacent path from room_i to room_j\n",
        "#  (for example, room_0 to room_0 has, room_0 to room_5)\n",
        "\n",
        "R = np.array([[-1, -1, -1, -1,  0, -1 ],\n",
        "              [-1, -1, -1,  0, -1, 100],\n",
        "              [-1, -1, -1,  0, -1, -1 ], \n",
        "              [-1,  0,  0, -1,  0, -1 ],\n",
        "              [ 0, -1, -1,  0, -1, 100],\n",
        "              [-1,  0, -1, -1,  0, 100]])\n",
        "\n",
        "myenv = FrysHomeEnv(rewards=R)\n",
        "\n",
        "for i in range(0, 6):\n",
        "  print(myenv.step(i))\n",
        "  myenv.render()"
      ]
    },
    {
      "cell_type": "markdown",
      "metadata": {
        "colab_type": "text",
        "id": "mJ8RA_ilKtkX"
      },
      "source": [
        "## Package custom environment as module\n",
        "\n",
        "OpenAI gym requires all environments to be packaged as Python modules.\n",
        "\n",
        "The code above has been packaged here:\n",
        "https://github.com/lisaong/diec/blob/master/day4/rl/gym-fryshome\n",
        "\n",
        "The module follows this convention:\n",
        "https://github.com/openai/gym/blob/master/docs/creating-environments.md"
      ]
    },
    {
      "cell_type": "code",
      "execution_count": 10,
      "metadata": {},
      "outputs": [
        {
          "name": "stdout",
          "output_type": "stream",
          "text": "Obtaining gym_fryshome from git+https://github.com/lisaong/diec#egg=gym_fryshome&subdirectory=day4/rl/gym-fryshome\n  Cloning https://github.com/lisaong/diec to .\\src\\gym-fryshome\nRequirement already satisfied: gym in c:\\users\\issohl\\.conda\\envs\\diec\\lib\\site-packages (from gym_fryshome) (0.17.1)\nRequirement already satisfied: numpy in c:\\users\\issohl\\.conda\\envs\\diec\\lib\\site-packages (from gym_fryshome) (1.16.3)\nRequirement already satisfied: cloudpickle<1.4.0,>=1.2.0 in c:\\users\\issohl\\.conda\\envs\\diec\\lib\\site-packages (from gym->gym_fryshome) (1.3.0)\nRequirement already satisfied: pyglet<=1.5.0,>=1.4.0 in c:\\users\\issohl\\.conda\\envs\\diec\\lib\\site-packages (from gym->gym_fryshome) (1.5.0)\nRequirement already satisfied: scipy in c:\\users\\issohl\\.conda\\envs\\diec\\lib\\site-packages (from gym->gym_fryshome) (1.2.1)\nRequirement already satisfied: six in c:\\users\\issohl\\.conda\\envs\\diec\\lib\\site-packages (from gym->gym_fryshome) (1.12.0)\nRequirement already satisfied: future in c:\\users\\issohl\\.conda\\envs\\diec\\lib\\site-packages (from pyglet<=1.5.0,>=1.4.0->gym->gym_fryshome) (0.18.2)\nInstalling collected packages: gym-fryshome\n  Found existing installation: gym-fryshome 0.0.1\n    Uninstalling gym-fryshome-0.0.1:\n      Successfully uninstalled gym-fryshome-0.0.1\n  Running setup.py develop for gym-fryshome\nSuccessfully installed gym-fryshome\n"
        }
      ],
      "source": [
        "# Restart environment after running this\n",
        "!pip --no-cache-dir install -e \"git+https://github.com/lisaong/diec#egg=gym_fryshome&subdirectory=day4/rl/gym-fryshome\""
      ]
    },
    {
      "cell_type": "markdown",
      "metadata": {
        "colab_type": "text",
        "id": "g7ITTKEVV_O8"
      },
      "source": [
        "## ** Restart the Colab kernel after the above pip install**\n",
        "\n",
        "Runtime -> Restart Runtime"
      ]
    },
    {
      "cell_type": "code",
      "execution_count": 11,
      "metadata": {},
      "outputs": [
        {
          "data": {
            "text/plain": "<module 'gym_fryshome' from 'd:\\\\diec\\\\day4\\\\rl\\\\diec\\\\day4\\\\rl\\\\gym-fryshome\\\\gym_fryshome\\\\__init__.py'>"
          },
          "execution_count": 11,
          "metadata": {},
          "output_type": "execute_result"
        }
      ],
      "source": [
        "# IMPORTANT: RESTART THE COLAB KERNEL if you've just ran !pip install\n",
        "\n",
        "# Test the installation\n",
        "import gym_fryshome\n",
        "\n",
        "gym_fryshome"
      ]
    },
    {
      "cell_type": "markdown",
      "metadata": {
        "colab_type": "text",
        "id": "k2iBf7ZeJgeT"
      },
      "source": [
        "## Random Walk Agent\n",
        " \n",
        "The simplest way is to have Bender randomly walk around the house.\n",
        "* We will run 20 episodes, where each episode is a maximum of 100 steps\n",
        "* Refer to http://gym.openai.com/docs/\n",
        "\n",
        "This doesn't actually learn anything, but is a good baseline for any RL agents."
      ]
    },
    {
      "cell_type": "code",
      "execution_count": 12,
      "metadata": {},
      "outputs": [],
      "source": [
        "class RandomAgent:\n",
        "    \"\"\"The world's simplest agent!\n",
        "      https://github.com/openai/gym/blob/master/examples/agents/random_agent.py\n",
        "    \"\"\"\n",
        "    def __init__(self, action_space):\n",
        "        self.action_space = action_space\n",
        "\n",
        "    def act(self, observation, reward, done):\n",
        "        return self.action_space.sample()"
      ]
    },
    {
      "cell_type": "code",
      "execution_count": 13,
      "metadata": {},
      "outputs": [
        {
          "name": "stdout",
          "output_type": "stream",
          "text": "Current room: 0, Reached goal: False\nCurrent room: 0, Reached goal: False\nCurrent room: 2, Reached goal: False\nCurrent room: 3, Reached goal: False\nCurrent room: 2, Reached goal: False\nCurrent room: 3, Reached goal: False\nCurrent room: 2, Reached goal: False\nCurrent room: 0, Reached goal: False\nCurrent room: 1, Reached goal: False\nCurrent room: 1, Reached goal: False\nCurrent room: 0, Reached goal: False\nCurrent room: 3, Reached goal: False\nCurrent room: 2, Reached goal: False\nEpisode finished after 13 timesteps\n\nCurrent room: 2, Reached goal: False\nCurrent room: 4, Reached goal: False\nCurrent room: 2, Reached goal: False\nCurrent room: 1, Reached goal: False\nCurrent room: 2, Reached goal: False\nEpisode finished after 5 timesteps\n\nCurrent room: 0, Reached goal: False\nCurrent room: 1, Reached goal: False\nCurrent room: 1, Reached goal: False\nEpisode finished after 3 timesteps\n\nCurrent room: 3, Reached goal: False\nCurrent room: 0, Reached goal: False\nCurrent room: 3, Reached goal: False\nCurrent room: 1, Reached goal: False\nCurrent room: 4, Reached goal: False\nCurrent room: 4, Reached goal: False\nCurrent room: 4, Reached goal: False\nCurrent room: 4, Reached goal: False\nCurrent room: 4, Reached goal: False\nCurrent room: 1, Reached goal: False\nCurrent room: 0, Reached goal: False\nCurrent room: 2, Reached goal: False\nCurrent room: 2, Reached goal: False\nCurrent room: 2, Reached goal: False\nCurrent room: 0, Reached goal: False\nCurrent room: 0, Reached goal: False\nCurrent room: 4, Reached goal: False\nCurrent room: 3, Reached goal: False\nCurrent room: 0, Reached goal: False\nEpisode finished after 19 timesteps\n\nCurrent room: 1, Reached goal: False\nCurrent room: 3, Reached goal: False\nCurrent room: 3, Reached goal: False\nCurrent room: 2, Reached goal: False\nCurrent room: 4, Reached goal: False\nCurrent room: 2, Reached goal: False\nCurrent room: 0, Reached goal: False\nCurrent room: 4, Reached goal: False\nEpisode finished after 8 timesteps\n\nCurrent room: 3, Reached goal: False\nCurrent room: 0, Reached goal: False\nCurrent room: 2, Reached goal: False\nCurrent room: 0, Reached goal: False\nCurrent room: 4, Reached goal: False\nCurrent room: 2, Reached goal: False\nCurrent room: 1, Reached goal: False\nEpisode finished after 7 timesteps\n\nCurrent room: 4, Reached goal: False\nEpisode finished after 1 timesteps\n\nCurrent room: 2, Reached goal: False\nCurrent room: 4, Reached goal: False\nEpisode finished after 2 timesteps\n\nCurrent room: 3, Reached goal: False\nEpisode finished after 1 timesteps\n\nCurrent room: 5, Reached goal: True\nEpisode finished after 1 timesteps\n\nCurrent room: 0, Reached goal: False\nCurrent room: 2, Reached goal: False\nEpisode finished after 2 timesteps\n\nCurrent room: 4, Reached goal: False\nCurrent room: 2, Reached goal: False\nCurrent room: 0, Reached goal: False\nCurrent room: 0, Reached goal: False\nCurrent room: 3, Reached goal: False\nCurrent room: 1, Reached goal: False\nCurrent room: 4, Reached goal: False\nEpisode finished after 7 timesteps\n\nCurrent room: 0, Reached goal: False\nEpisode finished after 1 timesteps\n\nCurrent room: 2, Reached goal: False\nCurrent room: 4, Reached goal: False\nCurrent room: 0, Reached goal: False\nCurrent room: 1, Reached goal: False\nCurrent room: 0, Reached goal: False\nCurrent room: 3, Reached goal: False\nEpisode finished after 6 timesteps\n\nCurrent room: 5, Reached goal: True\nEpisode finished after 1 timesteps\n\nCurrent room: 1, Reached goal: False\nCurrent room: 3, Reached goal: False\nCurrent room: 3, Reached goal: False\nCurrent room: 1, Reached goal: False\nCurrent room: 0, Reached goal: False\nCurrent room: 0, Reached goal: False\nCurrent room: 1, Reached goal: False\nCurrent room: 0, Reached goal: False\nCurrent room: 4, Reached goal: False\nCurrent room: 2, Reached goal: False\nCurrent room: 4, Reached goal: False\nCurrent room: 0, Reached goal: False\nCurrent room: 3, Reached goal: False\nCurrent room: 4, Reached goal: False\nCurrent room: 4, Reached goal: False\nCurrent room: 2, Reached goal: False\nCurrent room: 3, Reached goal: False\nCurrent room: 0, Reached goal: False\nCurrent room: 1, Reached goal: False\nCurrent room: 3, Reached goal: False\nCurrent room: 4, Reached goal: False\nCurrent room: 1, Reached goal: False\nCurrent room: 2, Reached goal: False\nCurrent room: 1, Reached goal: False\nCurrent room: 1, Reached goal: False\nCurrent room: 2, Reached goal: False\nCurrent room: 4, Reached goal: False\nCurrent room: 1, Reached goal: False\nCurrent room: 1, Reached goal: False\nCurrent room: 4, Reached goal: False\nCurrent room: 4, Reached goal: False\nCurrent room: 1, Reached goal: False\nCurrent room: 4, Reached goal: False\nCurrent room: 0, Reached goal: False\nEpisode finished after 34 timesteps\n\nCurrent room: 0, Reached goal: False\nCurrent room: 4, Reached goal: False\nCurrent room: 4, Reached goal: False\nCurrent room: 1, Reached goal: False\nCurrent room: 2, Reached goal: False\nCurrent room: 0, Reached goal: False\nCurrent room: 1, Reached goal: False\nCurrent room: 1, Reached goal: False\nCurrent room: 4, Reached goal: False\nCurrent room: 1, Reached goal: False\nEpisode finished after 10 timesteps\n\nCurrent room: 0, Reached goal: False\nCurrent room: 3, Reached goal: False\nCurrent room: 3, Reached goal: False\nCurrent room: 3, Reached goal: False\nCurrent room: 2, Reached goal: False\nCurrent room: 4, Reached goal: False\nEpisode finished after 6 timesteps\n\nCurrent room: 1, Reached goal: False\nEpisode finished after 1 timesteps\n\nCurrent room: 4, Reached goal: False\nCurrent room: 4, Reached goal: False\nCurrent room: 1, Reached goal: False\nCurrent room: 4, Reached goal: False\nCurrent room: 0, Reached goal: False\nCurrent room: 2, Reached goal: False\nCurrent room: 3, Reached goal: False\nCurrent room: 2, Reached goal: False\nEpisode finished after 8 timesteps\n\n"
        }
      ],
      "source": [
        "import gym\n",
        "import numpy as np\n",
        "\n",
        "# Constants\n",
        "EPISODE_COUNT = 20\n",
        "STEPS_PER_EPISODE = 100\n",
        "R = np.array([[-1, -1, -1, -1,  0, -1 ],\n",
        "              [-1, -1, -1,  0, -1, 100],\n",
        "              [-1, -1, -1,  0, -1, -1 ], \n",
        "              [-1,  0,  0, -1,  0, -1 ],\n",
        "              [ 0, -1, -1,  0, -1, 100],\n",
        "              [-1,  0, -1, -1,  0, 100]])\n",
        "# Global state\n",
        "done = False\n",
        "reward = 0\n",
        "\n",
        "# Create our environment (Fry's home), and our agent\n",
        "env = gym.make('gym_fryshome:fryshome-v0', rewards=R)\n",
        "bender_agent = RandomAgent(env.action_space)\n",
        "\n",
        "for episode in range(EPISODE_COUNT):\n",
        "  observation = env.reset()\n",
        "\n",
        "  for t in range(STEPS_PER_EPISODE):\n",
        "    env.render()\n",
        "    \n",
        "    # take a random action\n",
        "    action = bender_agent.act(observation, reward, done)\n",
        "\n",
        "    # step the environment using the selected action\n",
        "    observation, reward, done, info = env.step(action)\n",
        "\n",
        "    if done:\n",
        "      print(f'Episode finished after {t+1} timesteps\\n')\n",
        "      done = False # reset for next episode\n",
        "      break\n",
        "\n",
        "env.close()"
      ]
    },
    {
      "cell_type": "markdown",
      "metadata": {
        "colab_type": "text",
        "id": "blqh8_sZbXEW"
      },
      "source": [
        "## Q-Learning Agent\n",
        "\n",
        "Let's implement the basic Q-Learning formula (without Temporal Differencing):\n",
        "\n",
        "`Q(state, action) = R(state, action) + gamma * max[Q(next_state, all actions)]`\n",
        "\n",
        "Our Q-Learning agent will store the Q-values as we go along. This can be thought of as Benders \"brain\"!"
      ]
    },
    {
      "cell_type": "code",
      "execution_count": 16,
      "metadata": {},
      "outputs": [],
      "source": [
        "import numpy as np\n",
        "import random\n",
        "from gym import spaces\n",
        "\n",
        "class QLearningAgent:\n",
        "  \"\"\"Basic Q-Learning Agent\"\"\"\n",
        "  def __init__(self, rewards, gamma=0.8, verbose=False):\n",
        "    \"\"\"rewards: the rewards matrix\n",
        "    gamma: the discount factor in considering future rewards\n",
        "    \"\"\"\n",
        "    self.rewards = rewards\n",
        "\n",
        "    # Initialise the Q-matrix to zeros:\n",
        "    # dimensions (row=state, cols=actions)\n",
        "    self.Q = np.zeros(rewards.shape)\n",
        "\n",
        "    self.gamma = gamma\n",
        "    self.verbose = verbose\n",
        "\n",
        "  def _get_valid_actions(self, observation):\n",
        "    actions = np.arange(self.rewards.shape[1])\n",
        "    return actions[self.rewards[observation] != -1]\n",
        "\n",
        "  def act(self, observation, reward, done):\n",
        "    \"\"\"Update the Q-matrix, then take an action\n",
        "    observation: current state\n",
        "    reward: reward from the previous action (unused)\n",
        "    done: whether the episode is completed\n",
        "    \"\"\"\n",
        "    # randomly select the next action/observation\n",
        "    valid_actions = self._get_valid_actions(observation)\n",
        "    action = np.random.choice(valid_actions)\n",
        "\n",
        "    if not done:\n",
        "      # find the maximum Q-value for all future actions\n",
        "      next_observation = action\n",
        "      all_actions = self._get_valid_actions(next_observation)\n",
        "      future_rewards = self.Q[next_observation][all_actions]\n",
        "\n",
        "      print(f'Action: {action}, next state: {next_observation}, \\\n",
        "  all actions: {all_actions}, all future rewards: {future_rewards}, \\\n",
        "  max future reward: {future_rewards.max():.3f}')\n",
        "\n",
        "      # update the Q matrix\n",
        "      # Q(state, action) = R(state, action) + gamma * max[Q(next state, all actions)]\n",
        "      self.Q[observation][action] = self.rewards[observation][action] + \\\n",
        "        self.gamma * future_rewards.max()\n",
        "\n",
        "      if self.verbose:\n",
        "        print(f'Q-values:\\n{self.Q}')\n",
        "\n",
        "    return action\n",
        "\n",
        "  def best_path(self, initial_state, goal=5):\n",
        "    \"\"\"Returns the best path starting from a given state\"\"\"\n",
        "    path = [initial_state]\n",
        "    state = initial_state\n",
        "\n",
        "    while(True):\n",
        "      state = self.Q[state].argmax()\n",
        "      path.append(state)\n",
        "      if state == goal:\n",
        "        break\n",
        "      \n",
        "    return path          "
      ]
    },
    {
      "cell_type": "code",
      "execution_count": 17,
      "metadata": {},
      "outputs": [
        {
          "name": "stdout",
          "output_type": "stream",
          "text": "Action: 5, next state: 5,   all actions: [1 4 5], all future rewards: [0. 0. 0.],   max future reward: 0.000\nQ-values:\n[[  0.   0.   0.   0.   0.   0.]\n [  0.   0.   0.   0.   0. 100.]\n [  0.   0.   0.   0.   0.   0.]\n [  0.   0.   0.   0.   0.   0.]\n [  0.   0.   0.   0.   0.   0.]\n [  0.   0.   0.   0.   0.   0.]]\n"
        }
      ],
      "source": [
        "# Unit Test\n",
        "test_agent = QLearningAgent(rewards=R, verbose=True)\n",
        "action = test_agent.act(1, 0, False)"
      ]
    },
    {
      "cell_type": "markdown",
      "metadata": {
        "colab_type": "text",
        "id": "4LDllxIHsHkZ"
      },
      "source": [
        "Put our agent to work. Hopefully Bender is now smarter."
      ]
    },
    {
      "cell_type": "code",
      "execution_count": 18,
      "metadata": {},
      "outputs": [
        {
          "name": "stdout",
          "output_type": "stream",
          "text": "om: 3, Reached goal: False\nAction: 2, next state: 2,   all actions: [3], all future rewards: [220.123136],   max future reward: 220.123\nCurrent room: 2, Reached goal: False\nAction: 3, next state: 3,   all actions: [1 2 4], all future rewards: [275.15392   176.0985088 275.15392  ],   max future reward: 275.154\nCurrent room: 3, Reached goal: False\nAction: 4, next state: 4,   all actions: [0 3 5], all future rewards: [220.123136 220.123136 343.9424  ],   max future reward: 343.942\nCurrent room: 4, Reached goal: False\nAction: 5, next state: 5,   all actions: [1 4 5], all future rewards: [275.15392 275.15392 304.928  ],   max future reward: 304.928\nEpisode finished after 9 timesteps\n\nCurrent room: 3, Reached goal: False\nAction: 1, next state: 1,   all actions: [3 5], all future rewards: [220.123136 343.9424  ],   max future reward: 343.942\nCurrent room: 1, Reached goal: False\nAction: 3, next state: 3,   all actions: [1 2 4], all future rewards: [275.15392   176.0985088 275.15392  ],   max future reward: 275.154\nCurrent room: 3, Reached goal: False\nAction: 2, next state: 2,   all actions: [3], all future rewards: [220.123136],   max future reward: 220.123\nCurrent room: 2, Reached goal: False\nAction: 3, next state: 3,   all actions: [1 2 4], all future rewards: [275.15392   176.0985088 275.15392  ],   max future reward: 275.154\nCurrent room: 3, Reached goal: False\nAction: 4, next state: 4,   all actions: [0 3 5], all future rewards: [220.123136 220.123136 343.9424  ],   max future reward: 343.942\nCurrent room: 4, Reached goal: False\nAction: 5, next state: 5,   all actions: [1 4 5], all future rewards: [275.15392 275.15392 304.928  ],   max future reward: 304.928\nEpisode finished after 6 timesteps\n\nCurrent room: 3, Reached goal: False\nAction: 4, next state: 4,   all actions: [0 3 5], all future rewards: [220.123136 220.123136 343.9424  ],   max future reward: 343.942\nCurrent room: 4, Reached goal: False\nAction: 5, next state: 5,   all actions: [1 4 5], all future rewards: [275.15392 275.15392 304.928  ],   max future reward: 304.928\nEpisode finished after 2 timesteps\n\nCurrent room: 1, Reached goal: False\nAction: 3, next state: 3,   all actions: [1 2 4], all future rewards: [275.15392   176.0985088 275.15392  ],   max future reward: 275.154\nCurrent room: 3, Reached goal: False\nAction: 1, next state: 1,   all actions: [3 5], all future rewards: [220.123136 343.9424  ],   max future reward: 343.942\nCurrent room: 1, Reached goal: False\nAction: 5, next state: 5,   all actions: [1 4 5], all future rewards: [275.15392 275.15392 304.928  ],   max future reward: 304.928\nEpisode finished after 3 timesteps\n\nCurrent room: 3, Reached goal: False\nAction: 4, next state: 4,   all actions: [0 3 5], all future rewards: [220.123136 220.123136 343.9424  ],   max future reward: 343.942\nCurrent room: 4, Reached goal: False\nAction: 5, next state: 5,   all actions: [1 4 5], all future rewards: [275.15392 275.15392 304.928  ],   max future reward: 304.928\nEpisode finished after 2 timesteps\n\nCurrent room: 4, Reached goal: False\nAction: 3, next state: 3,   all actions: [1 2 4], all future rewards: [275.15392   176.0985088 275.15392  ],   max future reward: 275.154\nCurrent room: 3, Reached goal: False\nAction: 4, next state: 4,   all actions: [0 3 5], all future rewards: [220.123136 220.123136 343.9424  ],   max future reward: 343.942\nCurrent room: 4, Reached goal: False\nAction: 5, next state: 5,   all actions: [1 4 5], all future rewards: [275.15392 275.15392 304.928  ],   max future reward: 304.928\nEpisode finished after 3 timesteps\n\nCurrent room: 2, Reached goal: False\nAction: 3, next state: 3,   all actions: [1 2 4], all future rewards: [275.15392   176.0985088 275.15392  ],   max future reward: 275.154\nCurrent room: 3, Reached goal: False\nAction: 1, next state: 1,   all actions: [3 5], all future rewards: [220.123136 343.9424  ],   max future reward: 343.942\nCurrent room: 1, Reached goal: False\nAction: 3, next state: 3,   all actions: [1 2 4], all future rewards: [275.15392   176.0985088 275.15392  ],   max future reward: 275.154\nCurrent room: 3, Reached goal: False\nAction: 2, next state: 2,   all actions: [3], all future rewards: [220.123136],   max future reward: 220.123\nCurrent room: 2, Reached goal: False\nAction: 3, next state: 3,   all actions: [1 2 4], all future rewards: [275.15392   176.0985088 275.15392  ],   max future reward: 275.154\nCurrent room: 3, Reached goal: False\nAction: 2, next state: 2,   all actions: [3], all future rewards: [220.123136],   max future reward: 220.123\nCurrent room: 2, Reached goal: False\nAction: 3, next state: 3,   all actions: [1 2 4], all future rewards: [275.15392   176.0985088 275.15392  ],   max future reward: 275.154\nCurrent room: 3, Reached goal: False\nAction: 1, next state: 1,   all actions: [3 5], all future rewards: [220.123136 343.9424  ],   max future reward: 343.942\nCurrent room: 1, Reached goal: False\nAction: 5, next state: 5,   all actions: [1 4 5], all future rewards: [275.15392 275.15392 304.928  ],   max future reward: 304.928\nEpisode finished after 9 timesteps\n\nCurrent room: 4, Reached goal: False\nAction: 5, next state: 5,   all actions: [1 4 5], all future rewards: [275.15392 275.15392 304.928  ],   max future reward: 304.928\nEpisode finished after 1 timesteps\n\nCurrent room: 3, Reached goal: False\nAction: 2, next state: 2,   all actions: [3], all future rewards: [220.123136],   max future reward: 220.123\nCurrent room: 2, Reached goal: False\nAction: 3, next state: 3,   all actions: [1 2 4], all future rewards: [275.15392   176.0985088 275.15392  ],   max future reward: 275.154\nCurrent room: 3, Reached goal: False\nAction: 2, next state: 2,   all actions: [3], all future rewards: [220.123136],   max future reward: 220.123\nCurrent room: 2, Reached goal: False\nAction: 3, next state: 3,   all actions: [1 2 4], all future rewards: [275.15392   176.0985088 275.15392  ],   max future reward: 275.154\nCurrent room: 3, Reached goal: False\nAction: 1, next state: 1,   all actions: [3 5], all future rewards: [220.123136 343.9424  ],   max future reward: 343.942\nCurrent room: 1, Reached goal: False\nAction: 5, next state: 5,   all actions: [1 4 5], all future rewards: [275.15392 275.15392 304.928  ],   max future reward: 304.928\nEpisode finished after 6 timesteps\n\nCurrent room: 1, Reached goal: False\nAction: 3, next state: 3,   all actions: [1 2 4], all future rewards: [275.15392   176.0985088 275.15392  ],   max future reward: 275.154\nCurrent room: 3, Reached goal: False\nAction: 4, next state: 4,   all actions: [0 3 5], all future rewards: [220.123136 220.123136 343.9424  ],   max future reward: 343.942\nCurrent room: 4, Reached goal: False\nAction: 3, next state: 3,   all actions: [1 2 4], all future rewards: [275.15392   176.0985088 275.15392  ],   max future reward: 275.154\nCurrent room: 3, Reached goal: False\nAction: 4, next state: 4,   all actions: [0 3 5], all future rewards: [220.123136 220.123136 343.9424  ],   max future reward: 343.942\nCurrent room: 4, Reached goal: False\nAction: 0, next state: 0,   all actions: [4], all future rewards: [275.15392],   max future reward: 275.154\nCurrent room: 0, Reached goal: False\nAction: 4, next state: 4,   all actions: [0 3 5], all future rewards: [220.123136 220.123136 343.9424  ],   max future reward: 343.942\nCurrent room: 4, Reached goal: False\nAction: 3, next state: 3,   all actions: [1 2 4], all future rewards: [275.15392   176.0985088 275.15392  ],   max future reward: 275.154\nCurrent room: 3, Reached goal: False\nAction: 1, next state: 1,   all actions: [3 5], all future rewards: [220.123136 343.9424  ],   max future reward: 343.942\nCurrent room: 1, Reached goal: False\nAction: 5, next state: 5,   all actions: [1 4 5], all future rewards: [275.15392 275.15392 304.928  ],   max future reward: 304.928\nEpisode finished after 9 timesteps\n\nCurrent room: 4, Reached goal: False\nAction: 3, next state: 3,   all actions: [1 2 4], all future rewards: [275.15392   176.0985088 275.15392  ],   max future reward: 275.154\nCurrent room: 3, Reached goal: False\nAction: 4, next state: 4,   all actions: [0 3 5], all future rewards: [220.123136 220.123136 343.9424  ],   max future reward: 343.942\nCurrent room: 4, Reached goal: False\nAction: 5, next state: 5,   all actions: [1 4 5], all future rewards: [275.15392 275.15392 304.928  ],   max future reward: 304.928\nEpisode finished after 3 timesteps\n\nCurrent room: 2, Reached goal: False\nAction: 3, next state: 3,   all actions: [1 2 4], all future rewards: [275.15392   176.0985088 275.15392  ],   max future reward: 275.154\nCurrent room: 3, Reached goal: False\nAction: 1, next state: 1,   all actions: [3 5], all future rewards: [220.123136 343.9424  ],   max future reward: 343.942\nCurrent room: 1, Reached goal: False\nAction: 5, next state: 5,   all actions: [1 4 5], all future rewards: [275.15392 275.15392 304.928  ],   max future reward: 304.928\nEpisode finished after 3 timesteps\n\nCurrent room: 4, Reached goal: False\nAction: 5, next state: 5,   all actions: [1 4 5], all future rewards: [275.15392 275.15392 304.928  ],   max future reward: 304.928\nEpisode finished after 1 timesteps\n\nCurrent room: 4, Reached goal: False\nAction: 0, next state: 0,   all actions: [4], all future rewards: [275.15392],   max future reward: 275.154\nCurrent room: 0, Reached goal: False\nAction: 4, next state: 4,   all actions: [0 3 5], all future rewards: [220.123136 220.123136 343.9424  ],   max future reward: 343.942\nCurrent room: 4, Reached goal: False\nAction: 0, next state: 0,   all actions: [4], all future rewards: [275.15392],   max future reward: 275.154\nCurrent room: 0, Reached goal: False\nAction: 4, next state: 4,   all actions: [0 3 5], all future rewards: [220.123136 220.123136 343.9424  ],   max future reward: 343.942\nCurrent room: 4, Reached goal: False\nAction: 5, next state: 5,   all actions: [1 4 5], all future rewards: [275.15392 275.15392 304.928  ],   max future reward: 304.928\nEpisode finished after 5 timesteps\n\nCurrent room: 3, Reached goal: False\nAction: 4, next state: 4,   all actions: [0 3 5], all future rewards: [220.123136 220.123136 343.9424  ],   max future reward: 343.942\nCurrent room: 4, Reached goal: False\nAction: 5, next state: 5,   all actions: [1 4 5], all future rewards: [275.15392 275.15392 304.928  ],   max future reward: 304.928\nEpisode finished after 2 timesteps\n\nCurrent room: 2, Reached goal: False\nAction: 3, next state: 3,   all actions: [1 2 4], all future rewards: [275.15392   176.0985088 275.15392  ],   max future reward: 275.154\nCurrent room: 3, Reached goal: False\nAction: 1, next state: 1,   all actions: [3 5], all future rewards: [220.123136 343.9424  ],   max future reward: 343.942\nCurrent room: 1, Reached goal: False\nAction: 5, next state: 5,   all actions: [1 4 5], all future rewards: [275.15392 275.15392 304.928  ],   max future reward: 304.928\nEpisode finished after 3 timesteps\n\nCurrent room: 2, Reached goal: False\nAction: 3, next state: 3,   all actions: [1 2 4], all future rewards: [275.15392   176.0985088 275.15392  ],   max future reward: 275.154\nCurrent room: 3, Reached goal: False\nAction: 2, next state: 2,   all actions: [3], all future rewards: [220.123136],   max future reward: 220.123\nCurrent room: 2, Reached goal: False\nAction: 3, next state: 3,   all actions: [1 2 4], all future rewards: [275.15392   176.0985088 275.15392  ],   max future reward: 275.154\nCurrent room: 3, Reached goal: False\nAction: 2, next state: 2,   all actions: [3], all future rewards: [220.123136],   max future reward: 220.123\nCurrent room: 2, Reached goal: False\nAction: 3, next state: 3,   all actions: [1 2 4], all future rewards: [275.15392   176.0985088 275.15392  ],   max future reward: 275.154\nCurrent room: 3, Reached goal: False\nAction: 1, next state: 1,   all actions: [3 5], all future rewards: [220.123136 343.9424  ],   max future reward: 343.942\nCurrent room: 1, Reached goal: False\nAction: 3, next state: 3,   all actions: [1 2 4], all future rewards: [275.15392   176.0985088 275.15392  ],   max future reward: 275.154\nCurrent room: 3, Reached goal: False\nAction: 4, next state: 4,   all actions: [0 3 5], all future rewards: [220.123136 220.123136 343.9424  ],   max future reward: 343.942\nCurrent room: 4, Reached goal: False\nAction: 0, next state: 0,   all actions: [4], all future rewards: [275.15392],   max future reward: 275.154\nCurrent room: 0, Reached goal: False\nAction: 4, next state: 4,   all actions: [0 3 5], all future rewards: [220.123136 220.123136 343.9424  ],   max future reward: 343.942\nCurrent room: 4, Reached goal: False\nAction: 0, next state: 0,   all actions: [4], all future rewards: [275.15392],   max future reward: 275.154\nCurrent room: 0, Reached goal: False\nAction: 4, next state: 4,   all actions: [0 3 5], all future rewards: [220.123136 220.123136 343.9424  ],   max future reward: 343.942\nCurrent room: 4, Reached goal: False\nAction: 3, next state: 3,   all actions: [1 2 4], all future rewards: [275.15392   176.0985088 275.15392  ],   max future reward: 275.154\nCurrent room: 3, Reached goal: False\nAction: 1, next state: 1,   all actions: [3 5], all future rewards: [220.123136 343.9424  ],   max future reward: 343.942\nCurrent room: 1, Reached goal: False\nAction: 5, next state: 5,   all actions: [1 4 5], all future rewards: [275.15392 275.15392 304.928  ],   max future reward: 304.928\nEpisode finished after 15 timesteps\n\nCurrent room: 1, Reached goal: False\nAction: 3, next state: 3,   all actions: [1 2 4], all future rewards: [275.15392   176.0985088 275.15392  ],   max future reward: 275.154\nCurrent room: 3, Reached goal: False\nAction: 4, next state: 4,   all actions: [0 3 5], all future rewards: [220.123136 220.123136 343.9424  ],   max future reward: 343.942\nCurrent room: 4, Reached goal: False\nAction: 0, next state: 0,   all actions: [4], all future rewards: [275.15392],   max future reward: 275.154\nCurrent room: 0, Reached goal: False\nAction: 4, next state: 4,   all actions: [0 3 5], all future rewards: [220.123136 220.123136 343.9424  ],   max future reward: 343.942\nCurrent room: 4, Reached goal: False\nAction: 5, next state: 5,   all actions: [1 4 5], all future rewards: [275.15392 275.15392 304.928  ],   max future reward: 304.928\nEpisode finished after 5 timesteps\n\nCurrent room: 4, Reached goal: False\nAction: 3, next state: 3,   all actions: [1 2 4], all future rewards: [275.15392   176.0985088 275.15392  ],   max future reward: 275.154\nCurrent room: 3, Reached goal: False\nAction: 1, next state: 1,   all actions: [3 5], all future rewards: [220.123136 343.9424  ],   max future reward: 343.942\nCurrent room: 1, Reached goal: False\nAction: 3, next state: 3,   all actions: [1 2 4], all future rewards: [275.15392   176.0985088 275.15392  ],   max future reward: 275.154\nCurrent room: 3, Reached goal: False\nAction: 2, next state: 2,   all actions: [3], all future rewards: [220.123136],   max future reward: 220.123\nCurrent room: 2, Reached goal: False\nAction: 3, next state: 3,   all actions: [1 2 4], all future rewards: [275.15392   176.0985088 275.15392  ],   max future reward: 275.154\nCurrent room: 3, Reached goal: False\nAction: 2, next state: 2,   all actions: [3], all future rewards: [220.123136],   max future reward: 220.123\nCurrent room: 2, Reached goal: False\nAction: 3, next state: 3,   all actions: [1 2 4], all future rewards: [275.15392   176.0985088 275.15392  ],   max future reward: 275.154\nCurrent room: 3, Reached goal: False\nAction: 4, next state: 4,   all actions: [0 3 5], all future rewards: [220.123136 220.123136 343.9424  ],   max future reward: 343.942\nCurrent room: 4, Reached goal: False\nAction: 3, next state: 3,   all actions: [1 2 4], all future rewards: [275.15392   176.0985088 275.15392  ],   max future reward: 275.154\nCurrent room: 3, Reached goal: False\nAction: 4, next state: 4,   all actions: [0 3 5], all future rewards: [220.123136 220.123136 343.9424  ],   max future reward: 343.942\nCurrent room: 4, Reached goal: False\nAction: 3, next state: 3,   all actions: [1 2 4], all future rewards: [275.15392   176.0985088 275.15392  ],   max future reward: 275.154\nCurrent room: 3, Reached goal: False\nAction: 1, next state: 1,   all actions: [3 5], all future rewards: [220.123136 343.9424  ],   max future reward: 343.942\nCurrent room: 1, Reached goal: False\nAction: 5, next state: 5,   all actions: [1 4 5], all future rewards: [275.15392 275.15392 304.928  ],   max future reward: 304.928\nEpisode finished after 13 timesteps\n\nCurrent room: 0, Reached goal: False\nAction: 4, next state: 4,   all actions: [0 3 5], all future rewards: [220.123136 220.123136 343.9424  ],   max future reward: 343.942\nCurrent room: 4, Reached goal: False\nAction: 0, next state: 0,   all actions: [4], all future rewards: [275.15392],   max future reward: 275.154\nCurrent room: 0, Reached goal: False\nAction: 4, next state: 4,   all actions: [0 3 5], all future rewards: [220.123136 220.123136 343.9424  ],   max future reward: 343.942\nCurrent room: 4, Reached goal: False\nAction: 3, next state: 3,   all actions: [1 2 4], all future rewards: [275.15392   176.0985088 275.15392  ],   max future reward: 275.154\nCurrent room: 3, Reached goal: False\nAction: 2, next state: 2,   all actions: [3], all future rewards: [220.123136],   max future reward: 220.123\nCurrent room: 2, Reached goal: False\nAction: 3, next state: 3,   all actions: [1 2 4], all future rewards: [275.15392   176.0985088 275.15392  ],   max future reward: 275.154\nCurrent room: 3, Reached goal: False\nAction: 4, next state: 4,   all actions: [0 3 5], all future rewards: [220.123136 220.123136 343.9424  ],   max future reward: 343.942\nCurrent room: 4, Reached goal: False\nAction: 3, next state: 3,   all actions: [1 2 4], all future rewards: [275.15392   176.0985088 275.15392  ],   max future reward: 275.154\nCurrent room: 3, Reached goal: False\nAction: 2, next state: 2,   all actions: [3], all future rewards: [220.123136],   max future reward: 220.123\nCurrent room: 2, Reached goal: False\nAction: 3, next state: 3,   all actions: [1 2 4], all future rewards: [275.15392   176.0985088 275.15392  ],   max future reward: 275.154\nCurrent room: 3, Reached goal: False\nAction: 2, next state: 2,   all actions: [3], all future rewards: [220.123136],   max future reward: 220.123\nCurrent room: 2, Reached goal: False\nAction: 3, next state: 3,   all actions: [1 2 4], all future rewards: [275.15392   176.0985088 275.15392  ],   max future reward: 275.154\nCurrent room: 3, Reached goal: False\nAction: 2, next state: 2,   all actions: [3], all future rewards: [220.123136],   max future reward: 220.123\nCurrent room: 2, Reached goal: False\nAction: 3, next state: 3,   all actions: [1 2 4], all future rewards: [275.15392   176.0985088 275.15392  ],   max future reward: 275.154\nCurrent room: 3, Reached goal: False\nAction: 4, next state: 4,   all actions: [0 3 5], all future rewards: [220.123136 220.123136 343.9424  ],   max future reward: 343.942\nCurrent room: 4, Reached goal: False\nAction: 3, next state: 3,   all actions: [1 2 4], all future rewards: [275.15392   176.0985088 275.15392  ],   max future reward: 275.154\nCurrent room: 3, Reached goal: False\nAction: 2, next state: 2,   all actions: [3], all future rewards: [220.123136],   max future reward: 220.123\nCurrent room: 2, Reached goal: False\nAction: 3, next state: 3,   all actions: [1 2 4], all future rewards: [275.15392   176.0985088 275.15392  ],   max future reward: 275.154\nCurrent room: 3, Reached goal: False\nAction: 1, next state: 1,   all actions: [3 5], all future rewards: [220.123136 343.9424  ],   max future reward: 343.942\nCurrent room: 1, Reached goal: False\nAction: 5, next state: 5,   all actions: [1 4 5], all future rewards: [275.15392 275.15392 304.928  ],   max future reward: 304.928\nEpisode finished after 20 timesteps\n\nCurrent room: 5, Reached goal: True\nAction: 5, next state: 5,   all actions: [1 4 5], all future rewards: [275.15392 275.15392 304.928  ],   max future reward: 304.928\nEpisode finished after 1 timesteps\n\n"
        }
      ],
      "source": [
        "# Global state\n",
        "EPISODE_COUNT = 100\n",
        "STEPS_PER_EPISODE = 20\n",
        "done = False\n",
        "reward = 0\n",
        "\n",
        "# Track how many timesteps it took to finish\n",
        "history = {start:[] for start in range(R.shape[0])}\n",
        "\n",
        "# Create our environment (Fry's home), and our new agent\n",
        "env = gym.make('gym_fryshome:fryshome-v0', rewards=R)\n",
        "bender_v2 = QLearningAgent(rewards=R)\n",
        "\n",
        "for episode in range(EPISODE_COUNT):\n",
        "  observation = env.reset()\n",
        "  start = observation\n",
        "\n",
        "  for t in range(STEPS_PER_EPISODE):\n",
        "    env.render()\n",
        "    \n",
        "    # take the next action\n",
        "    action = bender_v2.act(observation, reward, done)\n",
        "\n",
        "    # step the environment using the selected action\n",
        "    observation, reward, done, info = env.step(action)\n",
        "\n",
        "    if done:\n",
        "      print(f'Episode finished after {t+1} timesteps\\n')\n",
        "      history[start].append(t+1)\n",
        "      done = False # reset for next episode\n",
        "      break\n",
        "\n",
        "env.close()"
      ]
    },
    {
      "cell_type": "code",
      "execution_count": 26,
      "metadata": {},
      "outputs": [
        {
          "data": {
            "text/plain": "<Figure size 1500x800 with 1 Axes>"
          },
          "metadata": {},
          "output_type": "display_data"
        }
      ],
      "source": [
        "# plot the history as a moving average\n",
        "import matplotlib.pyplot as plt\n",
        "\n",
        "def plot_history(history, title):\n",
        "  def moving_average(a, n):\n",
        "    # https://stackoverflow.com/questions/14313510/how-to-calculate-moving-average-using-numpy\n",
        "    ret = np.cumsum(a, dtype=float)\n",
        "    ret[n:] = ret[n:] - ret[:-n]\n",
        "    return ret[n - 1:] / n\n",
        "\n",
        "  fig, ax = plt.subplots(figsize=(15, 8))\n",
        "\n",
        "  window_size = min(EPISODE_COUNT//10, 5)\n",
        "  for start, ts in history.items():\n",
        "    ax.plot(moving_average(ts, window_size), label=f'Initial state: {start}')\n",
        "\n",
        "  ax.set_title(title)\n",
        "  ax.set_xlabel(f'Number of episodes')\n",
        "  ax.set_ylabel(f'Moving average (window size: {window_size})')\n",
        "\n",
        "  ax.legend()\n",
        "  plt.show()\n",
        "\n",
        "plot_history(history, title='History (Q-Learning)')"
      ]
    },
    {
      "cell_type": "code",
      "execution_count": 27,
      "metadata": {},
      "outputs": [
        {
          "data": {
            "text/plain": "array([[  0.       ,   0.       ,   0.       ,   0.       , 275.15392  ,\n          0.       ],\n       [  0.       ,   0.       ,   0.       , 220.123136 ,   0.       ,\n        343.9424   ],\n       [  0.       ,   0.       ,   0.       , 220.123136 ,   0.       ,\n          0.       ],\n       [  0.       , 275.15392  , 176.0985088,   0.       , 275.15392  ,\n          0.       ],\n       [220.123136 ,   0.       ,   0.       , 220.123136 ,   0.       ,\n        343.9424   ],\n       [  0.       , 275.15392  ,   0.       ,   0.       , 275.15392  ,\n        343.9424   ]])"
          },
          "execution_count": 27,
          "metadata": {},
          "output_type": "execute_result"
        }
      ],
      "source": [
        "bender_v2.Q"
      ]
    },
    {
      "cell_type": "markdown",
      "metadata": {
        "colab_type": "text",
        "id": "QjDse0IvVyaS"
      },
      "source": [
        "Now Bender can find the best path to beer from any room!"
      ]
    },
    {
      "cell_type": "code",
      "execution_count": 28,
      "metadata": {},
      "outputs": [
        {
          "name": "stdout",
          "output_type": "stream",
          "text": "[0, 4, 5]\n[1, 5]\n[2, 3, 1, 5]\n[3, 1, 5]\n[4, 5]\n[5, 5]\n"
        }
      ],
      "source": [
        "room_with_beer = 5\n",
        "for initial_state in range(room_with_beer+1):\n",
        "  print(bender_v2.best_path(initial_state))"
      ]
    },
    {
      "cell_type": "markdown",
      "metadata": {
        "colab_type": "text",
        "id": "_9oYxQHxVTPl"
      },
      "source": [
        "## Q-Learning Agent with TD\n",
        "\n",
        "A small, but significant, improvement for the Q-Learning Agent is to add Temporal Differencing.  \n",
        "\n",
        "Strictly speaking, TD is not necessary for this case because all the states and actions are known.\n",
        "\n",
        "However, TD is good when we don't know all the states and actions in advance, and need some way to estimate the Q-values.\n",
        "\n",
        "![equation](https://wikimedia.org/api/rest_v1/media/math/render/svg/678cb558a9d59c33ef4810c9618baf34a9577686)\n",
        "\n",
        "Source: https://en.wikipedia.org/wiki/Q-learning\n"
      ]
    },
    {
      "cell_type": "code",
      "execution_count": 29,
      "metadata": {},
      "outputs": [],
      "source": [
        "class QLearningTDAgent(QLearningAgent):\n",
        "  \"\"\"Q-Learning Agent with Temporal Differencing\"\"\"\n",
        "  def __init__(self, rewards, gamma=0.8, alpha=0.1, verbose=False):\n",
        "    \"\"\"rewards: the rewards matrix\n",
        "    gamma: the discount factor in considering future rewards\n",
        "    alpha: how much prior knowledge to include\n",
        "    \"\"\"\n",
        "    super(QLearningTDAgent, self).__init__(rewards, gamma, verbose)\n",
        "    self.alpha = alpha\n",
        "\n",
        "  def act(self, observation, reward, done):\n",
        "    \"\"\"Update the Q-matrix, then take an action\n",
        "    observation: current state\n",
        "    reward: reward from the previous action (unused)\n",
        "    done: whether the episode is completed\n",
        "    \"\"\"\n",
        "    # randomly select the next action/observation\n",
        "    valid_actions = self._get_valid_actions(observation)\n",
        "    action = np.random.choice(valid_actions)\n",
        "\n",
        "    if not done:\n",
        "      # find the maximum Q-value for all future actions\n",
        "      next_observation = action\n",
        "      all_actions = self._get_valid_actions(next_observation)\n",
        "      future_rewards = self.Q[next_observation][all_actions]\n",
        "\n",
        "      print(f'Action: {action}, next state: {next_observation}, \\\n",
        "  all actions: {all_actions}, all future rewards: {future_rewards}, \\\n",
        "  max future reward: {future_rewards.max():.3f}')\n",
        "\n",
        "      # update the Q matrix\n",
        "      # this is where temporal difference is applied\n",
        "      old_value = self.Q[observation][action]\n",
        "      self.Q[observation][action] = old_value + \\\n",
        "        self.alpha * (self.rewards[observation][action] + \\\n",
        "                      self.gamma * future_rewards.max() - old_value)\n",
        "\n",
        "      if self.verbose:\n",
        "        print(f'Q-values:\\n{self.Q}')\n",
        "\n",
        "    return action"
      ]
    },
    {
      "cell_type": "code",
      "execution_count": 24,
      "metadata": {},
      "outputs": [
        {
          "name": "stdout",
          "output_type": "stream",
          "text": "ure reward: 79.125\nCurrent room: 0, Reached goal: False\nAction: 4, next state: 4,   all actions: [0 3 5], all future rewards: [ 46.85909     46.720264   119.87982675],   max future reward: 119.880\nCurrent room: 4, Reached goal: False\nAction: 3, next state: 3,   all actions: [1 2 4], all future rewards: [73.6989728  25.46325558 82.25624868],   max future reward: 82.256\nCurrent room: 3, Reached goal: False\nAction: 1, next state: 1,   all actions: [3 5], all future rewards: [ 42.47673429 112.94870643],   max future reward: 112.949\nCurrent room: 1, Reached goal: False\nAction: 5, next state: 5,   all actions: [1 4 5], all future rewards: [ 8.6387891  16.47468583 38.81592   ],   max future reward: 38.816\nEpisode finished after 5 timesteps\n\nCurrent room: 0, Reached goal: False\nAction: 4, next state: 4,   all actions: [0 3 5], all future rewards: [ 46.85909     48.6287375  119.87982675],   max future reward: 119.880\nCurrent room: 4, Reached goal: False\nAction: 5, next state: 5,   all actions: [1 4 5], all future rewards: [ 8.6387891  16.47468583 38.81592   ],   max future reward: 38.816\nEpisode finished after 2 timesteps\n\nCurrent room: 4, Reached goal: False\nAction: 0, next state: 0,   all actions: [4], all future rewards: [82.31323993],   max future reward: 82.313\nCurrent room: 0, Reached goal: False\nAction: 4, next state: 4,   all actions: [0 3 5], all future rewards: [ 48.75824019  48.6287375  120.99711768],   max future reward: 120.997\nCurrent room: 4, Reached goal: False\nAction: 5, next state: 5,   all actions: [1 4 5], all future rewards: [ 8.6387891  16.47468583 38.81592   ],   max future reward: 38.816\nEpisode finished after 3 timesteps\n\nCurrent room: 2, Reached goal: False\nAction: 3, next state: 3,   all actions: [1 2 4], all future rewards: [75.36497203 25.46325558 82.25624868],   max future reward: 82.256\nCurrent room: 3, Reached goal: False\nAction: 1, next state: 1,   all actions: [3 5], all future rewards: [ 42.47673429 114.75910939],   max future reward: 114.759\nCurrent room: 1, Reached goal: False\nAction: 5, next state: 5,   all actions: [1 4 5], all future rewards: [ 8.6387891  16.47468583 38.81592   ],   max future reward: 38.816\nEpisode finished after 3 timesteps\n\nCurrent room: 5, Reached goal: True\nAction: 1, next state: 1,   all actions: [3 5], all future rewards: [ 42.47673429 116.38847205],   max future reward: 116.388\nEpisode finished after 1 timesteps\n\nCurrent room: 0, Reached goal: False\nAction: 4, next state: 4,   all actions: [0 3 5], all future rewards: [ 48.75824019  48.6287375  122.00267951],   max future reward: 122.003\nCurrent room: 4, Reached goal: False\nAction: 3, next state: 3,   all actions: [1 2 4], all future rewards: [77.00920358 25.46325558 82.25624868],   max future reward: 82.256\nCurrent room: 3, Reached goal: False\nAction: 2, next state: 2,   all actions: [3], all future rewards: [51.7294371],   max future reward: 51.729\nCurrent room: 2, Reached goal: False\nAction: 3, next state: 3,   all actions: [1 2 4], all future rewards: [77.00920358 27.05528499 82.25624868],   max future reward: 82.256\nCurrent room: 3, Reached goal: False\nAction: 2, next state: 2,   all actions: [3], all future rewards: [53.13699328],   max future reward: 53.137\nCurrent room: 2, Reached goal: False\nAction: 3, next state: 3,   all actions: [1 2 4], all future rewards: [77.00920358 28.60071595 82.25624868],   max future reward: 82.256\nCurrent room: 3, Reached goal: False\nAction: 4, next state: 4,   all actions: [0 3 5], all future rewards: [ 48.75824019  50.34636364 122.00267951],   max future reward: 122.003\nCurrent room: 4, Reached goal: False\nAction: 0, next state: 0,   all actions: [4], all future rewards: [85.14573118],   max future reward: 85.146\nCurrent room: 0, Reached goal: False\nAction: 4, next state: 4,   all actions: [0 3 5], all future rewards: [ 50.69407467  50.34636364 122.00267951],   max future reward: 122.003\nCurrent room: 4, Reached goal: False\nAction: 3, next state: 3,   all actions: [1 2 4], all future rewards: [77.00920358 28.60071595 83.79083818],   max future reward: 83.791\nCurrent room: 3, Reached goal: False\nAction: 4, next state: 4,   all actions: [0 3 5], all future rewards: [ 50.69407467  52.01499433 122.00267951],   max future reward: 122.003\nCurrent room: 4, Reached goal: False\nAction: 5, next state: 5,   all actions: [1 4 5], all future rewards: [17.08598795 16.47468583 38.81592   ],   max future reward: 38.816\nEpisode finished after 12 timesteps\n\nCurrent room: 5, Reached goal: True\nAction: 1, next state: 1,   all actions: [3 5], all future rewards: [ 42.47673429 116.38847205],   max future reward: 116.388\nEpisode finished after 1 timesteps\n\nCurrent room: 5, Reached goal: True\nAction: 4, next state: 4,   all actions: [0 3 5], all future rewards: [ 50.69407467  52.01499433 122.90768516],   max future reward: 122.908\nEpisode finished after 1 timesteps\n\nCurrent room: 2, Reached goal: False\nAction: 3, next state: 3,   all actions: [1 2 4], all future rewards: [77.00920358 28.60071595 85.17196872],   max future reward: 85.172\nCurrent room: 3, Reached goal: False\nAction: 2, next state: 2,   all actions: [3], all future rewards: [55.77717196],   max future reward: 55.777\nCurrent room: 2, Reached goal: False\nAction: 3, next state: 3,   all actions: [1 2 4], all future rewards: [77.00920358 30.20281811 85.17196872],   max future reward: 85.172\nCurrent room: 3, Reached goal: False\nAction: 2, next state: 2,   all actions: [3], all future rewards: [57.01321226],   max future reward: 57.013\nCurrent room: 2, Reached goal: False\nAction: 3, next state: 3,   all actions: [1 2 4], all future rewards: [77.00920358 31.74359328 85.17196872],   max future reward: 85.172\nCurrent room: 3, Reached goal: False\nAction: 4, next state: 4,   all actions: [0 3 5], all future rewards: [ 50.69407467  52.01499433 122.90768516],   max future reward: 122.908\nCurrent room: 4, Reached goal: False\nAction: 5, next state: 5,   all actions: [1 4 5], all future rewards: [24.68846692 24.65983206 38.81592   ],   max future reward: 38.816\nEpisode finished after 7 timesteps\n\nCurrent room: 4, Reached goal: False\nAction: 0, next state: 0,   all actions: [4], all future rewards: [86.39137242],   max future reward: 86.391\nCurrent room: 0, Reached goal: False\nAction: 4, next state: 4,   all actions: [0 3 5], all future rewards: [ 52.535977    52.01499433 123.72219024],   max future reward: 123.722\nCurrent room: 4, Reached goal: False\nAction: 0, next state: 0,   all actions: [4], all future rewards: [87.6500104],   max future reward: 87.650\nCurrent room: 0, Reached goal: False\nAction: 4, next state: 4,   all actions: [0 3 5], all future rewards: [ 54.29438013  52.01499433 123.72219024],   max future reward: 123.722\nCurrent room: 4, Reached goal: False\nAction: 5, next state: 5,   all actions: [1 4 5], all future rewards: [24.68846692 24.65983206 38.81592   ],   max future reward: 38.816\nEpisode finished after 5 timesteps\n\nCurrent room: 1, Reached goal: False\nAction: 3, next state: 3,   all actions: [1 2 4], all future rewards: [77.00920358 31.74359328 86.48738666],   max future reward: 86.487\nCurrent room: 3, Reached goal: False\nAction: 1, next state: 1,   all actions: [3 5], all future rewards: [ 45.14805179 116.38847205],   max future reward: 116.388\nCurrent room: 1, Reached goal: False\nAction: 3, next state: 3,   all actions: [1 2 4], all future rewards: [78.61936099 31.74359328 86.48738666],   max future reward: 86.487\nCurrent room: 3, Reached goal: False\nAction: 2, next state: 2,   all actions: [3], all future rewards: [58.12564853],   max future reward: 58.126\nCurrent room: 2, Reached goal: False\nAction: 3, next state: 3,   all actions: [1 2 4], all future rewards: [78.61936099 33.21928584 86.48738666],   max future reward: 86.487\nCurrent room: 3, Reached goal: False\nAction: 1, next state: 1,   all actions: [3 5], all future rewards: [ 47.55223754 116.38847205],   max future reward: 116.388\nCurrent room: 1, Reached goal: False\nAction: 3, next state: 3,   all actions: [1 2 4], all future rewards: [80.06850265 33.21928584 86.48738666],   max future reward: 86.487\nCurrent room: 3, Reached goal: False\nAction: 4, next state: 4,   all actions: [0 3 5], all future rewards: [ 54.29438013  52.01499433 124.45524482],   max future reward: 124.455\nCurrent room: 4, Reached goal: False\nAction: 3, next state: 3,   all actions: [1 2 4], all future rewards: [80.06850265 33.21928584 87.79506758],   max future reward: 87.795\nCurrent room: 3, Reached goal: False\nAction: 1, next state: 1,   all actions: [3 5], all future rewards: [ 49.71600472 116.38847205],   max future reward: 116.388\nCurrent room: 1, Reached goal: False\nAction: 3, next state: 3,   all actions: [1 2 4], all future rewards: [81.37273015 33.21928584 87.79506758],   max future reward: 87.795\nCurrent room: 3, Reached goal: False\nAction: 2, next state: 2,   all actions: [3], all future rewards: [59.23207461],   max future reward: 59.232\nCurrent room: 2, Reached goal: False\nAction: 3, next state: 3,   all actions: [1 2 4], all future rewards: [81.37273015 34.63592322 87.79506758],   max future reward: 87.795\nCurrent room: 3, Reached goal: False\nAction: 2, next state: 2,   all actions: [3], all future rewards: [60.33247256],   max future reward: 60.332\nCurrent room: 2, Reached goal: False\nAction: 3, next state: 3,   all actions: [1 2 4], all future rewards: [81.37273015 35.99892871 87.79506758],   max future reward: 87.795\nCurrent room: 3, Reached goal: False\nAction: 4, next state: 4,   all actions: [0 3 5], all future rewards: [ 54.29438013  53.83710031 124.45524482],   max future reward: 124.455\nCurrent room: 4, Reached goal: False\nAction: 0, next state: 0,   all actions: [4], all future rewards: [88.78278458],   max future reward: 88.783\nCurrent room: 0, Reached goal: False\nAction: 4, next state: 4,   all actions: [0 3 5], all future rewards: [ 55.96756488  53.83710031 124.45524482],   max future reward: 124.455\nCurrent room: 4, Reached goal: False\nAction: 5, next state: 5,   all actions: [1 4 5], all future rewards: [24.68846692 24.65983206 38.81592   ],   max future reward: 38.816\nEpisode finished after 19 timesteps\n\nCurrent room: 3, Reached goal: False\nAction: 1, next state: 1,   all actions: [3 5], all future rewards: [ 51.76800966 116.38847205],   max future reward: 116.388\nCurrent room: 1, Reached goal: False\nAction: 3, next state: 3,   all actions: [1 2 4], all future rewards: [82.5465349  35.99892871 88.97198041],   max future reward: 88.972\nCurrent room: 3, Reached goal: False\nAction: 4, next state: 4,   all actions: [0 3 5], all future rewards: [ 55.96756488  53.83710031 125.11499394],   max future reward: 125.115\nCurrent room: 4, Reached goal: False\nAction: 5, next state: 5,   all actions: [1 4 5], all future rewards: [24.68846692 24.65983206 38.81592   ],   max future reward: 38.816\nEpisode finished after 4 timesteps\n\nCurrent room: 3, Reached goal: False\nAction: 4, next state: 4,   all actions: [0 3 5], all future rewards: [ 55.96756488  53.83710031 125.70876814],   max future reward: 125.709\nCurrent room: 4, Reached goal: False\nAction: 5, next state: 5,   all actions: [1 4 5], all future rewards: [24.68846692 24.65983206 38.81592   ],   max future reward: 38.816\nEpisode finished after 2 timesteps\n\nCurrent room: 4, Reached goal: False\nAction: 5, next state: 5,   all actions: [1 4 5], all future rewards: [24.68846692 24.65983206 38.81592   ],   max future reward: 38.816\nEpisode finished after 1 timesteps\n\nCurrent room: 2, Reached goal: False\nAction: 3, next state: 3,   all actions: [1 2 4], all future rewards: [82.5465349  35.99892871 91.13228514],   max future reward: 91.132\nCurrent room: 3, Reached goal: False\nAction: 2, next state: 2,   all actions: [3], all future rewards: [62.48113045],   max future reward: 62.481\nCurrent room: 2, Reached goal: False\nAction: 3, next state: 3,   all actions: [1 2 4], all future rewards: [82.5465349  37.39752627 91.13228514],   max future reward: 91.132\nCurrent room: 3, Reached goal: False\nAction: 1, next state: 1,   all actions: [3 5], all future rewards: [ 53.70896712 116.38847205],   max future reward: 116.388\nCurrent room: 1, Reached goal: False\nAction: 5, next state: 5,   all actions: [1 4 5], all future rewards: [24.68846692 24.65983206 38.81592   ],   max future reward: 38.816\nEpisode finished after 5 timesteps\n\nCurrent room: 5, Reached goal: True\nAction: 5, next state: 5,   all actions: [1 4 5], all future rewards: [24.68846692 24.65983206 38.81592   ],   max future reward: 38.816\nEpisode finished after 1 timesteps\n\nCurrent room: 0, Reached goal: False\nAction: 4, next state: 4,   all actions: [0 3 5], all future rewards: [ 55.96756488  53.83710031 126.72412204],   max future reward: 126.724\nCurrent room: 4, Reached goal: False\nAction: 3, next state: 3,   all actions: [1 2 4], all future rewards: [83.60295917 37.39752627 91.13228514],   max future reward: 91.132\nCurrent room: 3, Reached goal: False\nAction: 2, next state: 2,   all actions: [3], all future rewards: [63.52360022],   max future reward: 63.524\nCurrent room: 2, Reached goal: False\nAction: 3, next state: 3,   all actions: [1 2 4], all future rewards: [83.60295917 38.73966166 91.13228514],   max future reward: 91.132\nCurrent room: 3, Reached goal: False\nAction: 1, next state: 1,   all actions: [3 5], all future rewards: [ 53.70896712 117.85489844],   max future reward: 117.855\nCurrent room: 1, Reached goal: False\nAction: 3, next state: 3,   all actions: [1 2 4], all future rewards: [84.67105513 38.73966166 91.13228514],   max future reward: 91.132\nCurrent room: 3, Reached goal: False\nAction: 4, next state: 4,   all actions: [0 3 5], all future rewards: [ 55.96756488  55.74397309 126.72412204],   max future reward: 126.724\nCurrent room: 4, Reached goal: False\nAction: 0, next state: 0,   all actions: [4], all future rewards: [91.0127629],   max future reward: 91.013\nCurrent room: 0, Reached goal: False\nAction: 4, next state: 4,   all actions: [0 3 5], all future rewards: [ 57.65182943  55.74397309 126.72412204],   max future reward: 126.724\nCurrent room: 4, Reached goal: False\nAction: 0, next state: 0,   all actions: [4], all future rewards: [92.04941637],   max future reward: 92.049\nCurrent room: 0, Reached goal: False\nAction: 4, next state: 4,   all actions: [0 3 5], all future rewards: [ 59.25059979  55.74397309 126.72412204],   max future reward: 126.724\nCurrent room: 4, Reached goal: False\nAction: 0, next state: 0,   all actions: [4], all future rewards: [92.9824045],   max future reward: 92.982\nCurrent room: 0, Reached goal: False\nAction: 4, next state: 4,   all actions: [0 3 5], all future rewards: [ 60.76413217  55.74397309 126.72412204],   max future reward: 126.724\nCurrent room: 4, Reached goal: False\nAction: 0, next state: 0,   all actions: [4], all future rewards: [93.82209381],   max future reward: 93.822\nCurrent room: 0, Reached goal: False\nAction: 4, next state: 4,   all actions: [0 3 5], all future rewards: [ 62.19348646  55.74397309 126.72412204],   max future reward: 126.724\nCurrent room: 4, Reached goal: False\nAction: 0, next state: 0,   all actions: [4], all future rewards: [94.57781419],   max future reward: 94.578\nCurrent room: 0, Reached goal: False\nAction: 4, next state: 4,   all actions: [0 3 5], all future rewards: [ 63.54036295  55.74397309 126.72412204],   max future reward: 126.724\nCurrent room: 4, Reached goal: False\nAction: 0, next state: 0,   all actions: [4], all future rewards: [95.25796254],   max future reward: 95.258\nCurrent room: 0, Reached goal: False\nAction: 4, next state: 4,   all actions: [0 3 5], all future rewards: [ 64.80696366  55.74397309 126.72412204],   max future reward: 126.724\nCurrent room: 4, Reached goal: False\nAction: 5, next state: 5,   all actions: [1 4 5], all future rewards: [24.68846692 24.65983206 48.0396016 ],   max future reward: 48.040\nEpisode finished after 20 timesteps\n\nCurrent room: 3, Reached goal: False\nAction: 1, next state: 1,   all actions: [3 5], all future rewards: [ 55.62865322 117.85489844],   max future reward: 117.855\nCurrent room: 1, Reached goal: False\nAction: 5, next state: 5,   all actions: [1 4 5], all future rewards: [24.68846692 24.65983206 48.0396016 ],   max future reward: 48.040\nEpisode finished after 2 timesteps\n\nCurrent room: 0, Reached goal: False\nAction: 4, next state: 4,   all actions: [0 3 5], all future rewards: [ 64.80696366  55.74397309 127.89487796],   max future reward: 127.895\nCurrent room: 4, Reached goal: False\nAction: 5, next state: 5,   all actions: [1 4 5], all future rewards: [24.68846692 24.65983206 48.0396016 ],   max future reward: 48.040\nEpisode finished after 2 timesteps\n\nCurrent room: 3, Reached goal: False\nAction: 1, next state: 1,   all actions: [3 5], all future rewards: [ 55.62865322 119.91257673],   max future reward: 119.913\nCurrent room: 1, Reached goal: False\nAction: 5, next state: 5,   all actions: [1 4 5], all future rewards: [24.68846692 24.65983206 48.0396016 ],   max future reward: 48.040\nEpisode finished after 2 timesteps\n\nCurrent room: 5, Reached goal: True\nAction: 5, next state: 5,   all actions: [1 4 5], all future rewards: [24.68846692 24.65983206 48.0396016 ],   max future reward: 48.040\nEpisode finished after 1 timesteps\n\nCurrent room: 5, Reached goal: True\nAction: 4, next state: 4,   all actions: [0 3 5], all future rewards: [ 64.80696366  55.74397309 128.94855829],   max future reward: 128.949\nEpisode finished after 1 timesteps\n\nCurrent room: 3, Reached goal: False\nAction: 1, next state: 1,   all actions: [3 5], all future rewards: [ 55.62865322 121.76448718],   max future reward: 121.764\nCurrent room: 1, Reached goal: False\nAction: 3, next state: 3,   all actions: [1 2 4], all future rewards: [87.73706111 38.73966166 92.15698639],   max future reward: 92.157\nCurrent room: 3, Reached goal: False\nAction: 2, next state: 2,   all actions: [3], all future rewards: [64.46182301],   max future reward: 64.462\nCurrent room: 2, Reached goal: False\nAction: 3, next state: 3,   all actions: [1 2 4], all future rewards: [87.73706111 40.02264134 92.15698639],   max future reward: 92.157\nCurrent room: 3, Reached goal: False\nAction: 2, next state: 2,   all actions: [3], all future rewards: [65.38819962],   max future reward: 65.388\nCurrent room: 2, Reached goal: False\nAction: 3, next state: 3,   all actions: [1 2 4], all future rewards: [87.73706111 41.25143317 92.15698639],   max future reward: 92.157\nCurrent room: 3, Reached goal: False\nAction: 2, next state: 2,   all actions: [3], all future rewards: [66.22193857],   max future reward: 66.222\nCurrent room: 2, Reached goal: False\nAction: 3, next state: 3,   all actions: [1 2 4], all future rewards: [87.73706111 42.42404494 92.15698639],   max future reward: 92.157\nCurrent room: 3, Reached goal: False\nAction: 1, next state: 1,   all actions: [3 5], all future rewards: [ 57.43834681 121.76448718],   max future reward: 121.764\nCurrent room: 1, Reached goal: False\nAction: 3, next state: 3,   all actions: [1 2 4], all future rewards: [88.70451397 42.42404494 92.15698639],   max future reward: 92.157\nCurrent room: 3, Reached goal: False\nAction: 1, next state: 1,   all actions: [3 5], all future rewards: [ 59.06707104 121.76448718],   max future reward: 121.764\nCurrent room: 1, Reached goal: False\nAction: 3, next state: 3,   all actions: [1 2 4], all future rewards: [89.57522155 42.42404494 92.15698639],   max future reward: 92.157\nCurrent room: 3, Reached goal: False\nAction: 4, next state: 4,   all actions: [0 3 5], all future rewards: [ 64.80696366  55.74397309 128.94855829],   max future reward: 128.949\nCurrent room: 4, Reached goal: False\nAction: 5, next state: 5,   all actions: [1 4 5], all future rewards: [24.68846692 32.50973351 57.07880957],   max future reward: 57.079\nEpisode finished after 14 timesteps\n\nCurrent room: 5, Reached goal: True\nAction: 1, next state: 1,   all actions: [3 5], all future rewards: [ 60.53292285 121.76448718],   max future reward: 121.764\nEpisode finished after 1 timesteps\n\n"
        }
      ],
      "source": [
        "# Global state\n",
        "EPISODE_COUNT = 100\n",
        "STEPS_PER_EPISODE = 20\n",
        "done = False\n",
        "reward = 0\n",
        "\n",
        "# Track how many timesteps it took to finish\n",
        "history_v3 = {start:[] for start in range(R.shape[0])}\n",
        "\n",
        "env = gym.make('gym_fryshome:fryshome-v0', rewards=R)\n",
        "bender_v3 = QLearningTDAgent(rewards=R)\n",
        "\n",
        "for episode in range(EPISODE_COUNT):\n",
        "  observation = env.reset()\n",
        "  start = observation\n",
        "\n",
        "  for t in range(STEPS_PER_EPISODE):\n",
        "    env.render()\n",
        "    \n",
        "    # take the next action\n",
        "    action = bender_v3.act(observation, reward, done)\n",
        "\n",
        "    # step the environment using the selected action\n",
        "    observation, reward, done, info = env.step(action)\n",
        "\n",
        "    if done:\n",
        "      print(f'Episode finished after {t+1} timesteps\\n')\n",
        "      history_v3[start].append(t+1)\n",
        "      done = False # reset for next episode\n",
        "      break\n",
        "\n",
        "env.close()"
      ]
    },
    {
      "cell_type": "code",
      "execution_count": 30,
      "metadata": {},
      "outputs": [
        {
          "data": {
            "image/png": "[encoded data removed]",
            "text/plain": "<Figure size 1080x576 with 1 Axes>"
          },
          "metadata": {
            "needs_background": "light"
          },
          "output_type": "display_data"
        }
      ],
      "source": [
        "plot_history(history_v3, 'History (Q-Learning with Temporal Differencing)')"
      ]
    },
    {
      "cell_type": "code",
      "execution_count": 31,
      "metadata": {},
      "outputs": [
        {
          "data": {
            "text/plain": "array([[  0.        ,   0.        ,   0.        ,   0.        ,\n         96.51467668,   0.        ],\n       [  0.        ,   0.        ,   0.        ,  60.53292285,\n          0.        , 121.76448718],\n       [  0.        ,   0.        ,   0.        ,  66.97230362,\n          0.        ,   0.        ],\n       [  0.        ,  89.57522155,  42.42404494,   0.        ,\n         93.25717242,   0.        ],\n       [ 64.80696366,   0.        ,   0.        ,  55.74397309,\n          0.        , 130.62000723],\n       [  0.        ,  31.9607792 ,   0.        ,   0.        ,\n         32.50973351,  57.07880957]])"
          },
          "execution_count": 31,
          "metadata": {},
          "output_type": "execute_result"
        }
      ],
      "source": [
        "bender_v3.Q"
      ]
    },
    {
      "cell_type": "markdown",
      "metadata": {
        "colab_type": "text",
        "id": "pILZT65UYi-G"
      },
      "source": [
        "Convergence seems quicker compared to Basic Q-Learning, as noticed by the smaller moving averages. \n",
        "\n",
        "Bender V3 learnt a bit quicker than Bender V2."
      ]
    },
    {
      "cell_type": "code",
      "execution_count": 32,
      "metadata": {},
      "outputs": [
        {
          "name": "stdout",
          "output_type": "stream",
          "text": "[0, 4, 5]\n[1, 5]\n[2, 3, 4, 5]\n[3, 4, 5]\n[4, 5]\n[5, 5]\n"
        }
      ],
      "source": [
        "room_with_beer = 5\n",
        "for initial_state in range(room_with_beer+1):\n",
        "  print(bender_v3.best_path(initial_state))"
      ]
    },
    {
      "cell_type": "markdown",
      "metadata": {
        "colab_type": "text",
        "id": "GkaJhf12dham"
      },
      "source": [
        "## More Advanced Agents\n",
        "\n",
        "You can install baselines, which contain implementation of more sophisticated agents.\n",
        "\n",
        "https://github.com/openai/baselines"
      ]
    }
  ]
}