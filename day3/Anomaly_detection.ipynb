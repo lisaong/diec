{
 "cells": [
  {
   "cell_type": "markdown",
   "metadata": {},
   "source": [
    "https://github.com/tensorflow/tensorflow/blob/master/tensorflow/lite/g3doc/convert/python_api.md\n",
    "\n",
    "https://www.tensorflow.org/lite/microcontrollers/build_convert\n",
    "\n",
    "1. Train model using Tensorflow Lite\n",
    "2. Convert to microcontroller version\n",
    "3. Deploy on Raspberry Pi\n",
    "\n",
    "Possible Datasets:\n",
    "https://www.kaggle.com/inIT-OWL/high-storage-system-data-for-energy-optimization\n",
    "https://www.kaggle.com/tocha4/predictive-maintenance-basics-about-dataset\n",
    "https://www.kaggle.com/inIT-OWL/one-year-industrial-component-degradation"
   ]
  },
  {
   "cell_type": "code",
   "execution_count": null,
   "metadata": {},
   "outputs": [],
   "source": []
  }
 ],
 "metadata": {
  "kernelspec": {
   "display_name": "Python 3",
   "language": "python",
   "name": "python3"
  },
  "language_info": {
   "codemirror_mode": {
    "name": "ipython",
    "version": 3
   },
   "file_extension": ".py",
   "mimetype": "text/x-python",
   "name": "python",
   "nbconvert_exporter": "python",
   "pygments_lexer": "ipython3",
   "version": "3.7.2"
  }
 },
 "nbformat": 4,
 "nbformat_minor": 2
}
